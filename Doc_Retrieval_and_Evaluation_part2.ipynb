{
  "nbformat": 4,
  "nbformat_minor": 0,
  "metadata": {
    "colab": {
      "provenance": []
    },
    "kernelspec": {
      "name": "python3",
      "display_name": "Python 3"
    },
    "language_info": {
      "name": "python"
    }
  },
  "cells": [
    {
      "cell_type": "markdown",
      "source": [
        "INFORMATION RETRIEVAL\n",
        "\n",
        "PRANSHU PARATE\n",
        "\n",
        "202211063"
      ],
      "metadata": {
        "id": "1dQ1wMfbjM4j"
      }
    },
    {
      "cell_type": "code",
      "source": [
        "#installing indic library\n",
        "!pip install indic-nlp-library"
      ],
      "metadata": {
        "colab": {
          "base_uri": "https://localhost:8080/"
        },
        "id": "aGS13iPlmt02",
        "outputId": "5dd9a6e8-a123-4d37-c9ae-be12b96b1c0a"
      },
      "execution_count": 1,
      "outputs": [
        {
          "output_type": "stream",
          "name": "stdout",
          "text": [
            "Collecting indic-nlp-library\n",
            "  Downloading indic_nlp_library-0.92-py3-none-any.whl (40 kB)\n",
            "\u001b[?25l     \u001b[90m━━━━━━━━━━━━━━━━━━━━━━━━━━━━━━━━━━━━━━━━\u001b[0m \u001b[32m0.0/40.3 kB\u001b[0m \u001b[31m?\u001b[0m eta \u001b[36m-:--:--\u001b[0m\r\u001b[2K     \u001b[90m━━━━━━━━━━━━━━━━━━━━━━━━━━━━━━━━━━━━━━━━\u001b[0m \u001b[32m40.3/40.3 kB\u001b[0m \u001b[31m1.1 MB/s\u001b[0m eta \u001b[36m0:00:00\u001b[0m\n",
            "\u001b[?25hCollecting sphinx-argparse (from indic-nlp-library)\n",
            "  Downloading sphinx_argparse-0.4.0-py3-none-any.whl (12 kB)\n",
            "Collecting sphinx-rtd-theme (from indic-nlp-library)\n",
            "  Downloading sphinx_rtd_theme-1.3.0-py2.py3-none-any.whl (2.8 MB)\n",
            "\u001b[2K     \u001b[90m━━━━━━━━━━━━━━━━━━━━━━━━━━━━━━━━━━━━━━━━\u001b[0m \u001b[32m2.8/2.8 MB\u001b[0m \u001b[31m31.8 MB/s\u001b[0m eta \u001b[36m0:00:00\u001b[0m\n",
            "\u001b[?25hCollecting morfessor (from indic-nlp-library)\n",
            "  Downloading Morfessor-2.0.6-py3-none-any.whl (35 kB)\n",
            "Requirement already satisfied: pandas in /usr/local/lib/python3.10/dist-packages (from indic-nlp-library) (1.5.3)\n",
            "Requirement already satisfied: numpy in /usr/local/lib/python3.10/dist-packages (from indic-nlp-library) (1.23.5)\n",
            "Requirement already satisfied: python-dateutil>=2.8.1 in /usr/local/lib/python3.10/dist-packages (from pandas->indic-nlp-library) (2.8.2)\n",
            "Requirement already satisfied: pytz>=2020.1 in /usr/local/lib/python3.10/dist-packages (from pandas->indic-nlp-library) (2023.3)\n",
            "Requirement already satisfied: sphinx>=1.2.0 in /usr/local/lib/python3.10/dist-packages (from sphinx-argparse->indic-nlp-library) (5.0.2)\n",
            "Requirement already satisfied: docutils<0.19 in /usr/local/lib/python3.10/dist-packages (from sphinx-rtd-theme->indic-nlp-library) (0.18.1)\n",
            "Collecting sphinxcontrib-jquery<5,>=4 (from sphinx-rtd-theme->indic-nlp-library)\n",
            "  Downloading sphinxcontrib_jquery-4.1-py2.py3-none-any.whl (121 kB)\n",
            "\u001b[2K     \u001b[90m━━━━━━━━━━━━━━━━━━━━━━━━━━━━━━━━━━━━━━\u001b[0m \u001b[32m121.1/121.1 kB\u001b[0m \u001b[31m11.0 MB/s\u001b[0m eta \u001b[36m0:00:00\u001b[0m\n",
            "\u001b[?25hRequirement already satisfied: six>=1.5 in /usr/local/lib/python3.10/dist-packages (from python-dateutil>=2.8.1->pandas->indic-nlp-library) (1.16.0)\n",
            "Requirement already satisfied: sphinxcontrib-applehelp in /usr/local/lib/python3.10/dist-packages (from sphinx>=1.2.0->sphinx-argparse->indic-nlp-library) (1.0.7)\n",
            "Requirement already satisfied: sphinxcontrib-devhelp in /usr/local/lib/python3.10/dist-packages (from sphinx>=1.2.0->sphinx-argparse->indic-nlp-library) (1.0.5)\n",
            "Requirement already satisfied: sphinxcontrib-jsmath in /usr/local/lib/python3.10/dist-packages (from sphinx>=1.2.0->sphinx-argparse->indic-nlp-library) (1.0.1)\n",
            "Requirement already satisfied: sphinxcontrib-htmlhelp>=2.0.0 in /usr/local/lib/python3.10/dist-packages (from sphinx>=1.2.0->sphinx-argparse->indic-nlp-library) (2.0.4)\n",
            "Requirement already satisfied: sphinxcontrib-serializinghtml>=1.1.5 in /usr/local/lib/python3.10/dist-packages (from sphinx>=1.2.0->sphinx-argparse->indic-nlp-library) (1.1.9)\n",
            "Requirement already satisfied: sphinxcontrib-qthelp in /usr/local/lib/python3.10/dist-packages (from sphinx>=1.2.0->sphinx-argparse->indic-nlp-library) (1.0.6)\n",
            "Requirement already satisfied: Jinja2>=2.3 in /usr/local/lib/python3.10/dist-packages (from sphinx>=1.2.0->sphinx-argparse->indic-nlp-library) (3.1.2)\n",
            "Requirement already satisfied: Pygments>=2.0 in /usr/local/lib/python3.10/dist-packages (from sphinx>=1.2.0->sphinx-argparse->indic-nlp-library) (2.16.1)\n",
            "Requirement already satisfied: snowballstemmer>=1.1 in /usr/local/lib/python3.10/dist-packages (from sphinx>=1.2.0->sphinx-argparse->indic-nlp-library) (2.2.0)\n",
            "Requirement already satisfied: babel>=1.3 in /usr/local/lib/python3.10/dist-packages (from sphinx>=1.2.0->sphinx-argparse->indic-nlp-library) (2.12.1)\n",
            "Requirement already satisfied: alabaster<0.8,>=0.7 in /usr/local/lib/python3.10/dist-packages (from sphinx>=1.2.0->sphinx-argparse->indic-nlp-library) (0.7.13)\n",
            "Requirement already satisfied: imagesize in /usr/local/lib/python3.10/dist-packages (from sphinx>=1.2.0->sphinx-argparse->indic-nlp-library) (1.4.1)\n",
            "Requirement already satisfied: requests>=2.5.0 in /usr/local/lib/python3.10/dist-packages (from sphinx>=1.2.0->sphinx-argparse->indic-nlp-library) (2.31.0)\n",
            "Requirement already satisfied: packaging in /usr/local/lib/python3.10/dist-packages (from sphinx>=1.2.0->sphinx-argparse->indic-nlp-library) (23.1)\n",
            "Requirement already satisfied: MarkupSafe>=2.0 in /usr/local/lib/python3.10/dist-packages (from Jinja2>=2.3->sphinx>=1.2.0->sphinx-argparse->indic-nlp-library) (2.1.3)\n",
            "Requirement already satisfied: charset-normalizer<4,>=2 in /usr/local/lib/python3.10/dist-packages (from requests>=2.5.0->sphinx>=1.2.0->sphinx-argparse->indic-nlp-library) (3.2.0)\n",
            "Requirement already satisfied: idna<4,>=2.5 in /usr/local/lib/python3.10/dist-packages (from requests>=2.5.0->sphinx>=1.2.0->sphinx-argparse->indic-nlp-library) (3.4)\n",
            "Requirement already satisfied: urllib3<3,>=1.21.1 in /usr/local/lib/python3.10/dist-packages (from requests>=2.5.0->sphinx>=1.2.0->sphinx-argparse->indic-nlp-library) (2.0.4)\n",
            "Requirement already satisfied: certifi>=2017.4.17 in /usr/local/lib/python3.10/dist-packages (from requests>=2.5.0->sphinx>=1.2.0->sphinx-argparse->indic-nlp-library) (2023.7.22)\n",
            "Installing collected packages: morfessor, sphinxcontrib-jquery, sphinx-rtd-theme, sphinx-argparse, indic-nlp-library\n",
            "Successfully installed indic-nlp-library-0.92 morfessor-2.0.6 sphinx-argparse-0.4.0 sphinx-rtd-theme-1.3.0 sphinxcontrib-jquery-4.1\n"
          ]
        }
      ]
    },
    {
      "cell_type": "code",
      "source": [
        "#importing packages\n",
        "import os\n",
        "import sys\n",
        "import xml.etree.ElementTree as ET\n",
        "from bs4 import BeautifulSoup\n",
        "from indicnlp import common\n",
        "from indicnlp.tokenize import sentence_tokenize\n",
        "from indicnlp.normalize import indic_normalize\n",
        "from sklearn.feature_extraction.text import TfidfVectorizer\n",
        "from sklearn.metrics import average_precision_score\n",
        "from indicnlp.tokenize import sentence_tokenize, indic_tokenize\n",
        "from indicnlp.normalize.indic_normalize import IndicNormalizerFactory"
      ],
      "metadata": {
        "id": "5dn6BNlUjMLu"
      },
      "execution_count": 2,
      "outputs": []
    },
    {
      "cell_type": "code",
      "execution_count": 3,
      "metadata": {
        "id": "IT8Ma03SjB8K",
        "colab": {
          "base_uri": "https://localhost:8080/"
        },
        "outputId": "31b11a51-2942-47d2-c9d5-7a38e3d8dcad"
      },
      "outputs": [
        {
          "output_type": "stream",
          "name": "stdout",
          "text": [
            "Mounted at /content/drive\n"
          ]
        }
      ],
      "source": [
        "#mount the drive\n",
        "from google.colab import drive\n",
        "drive.mount('/content/drive')"
      ]
    },
    {
      "cell_type": "code",
      "source": [
        "#installing bs4\n",
        "!pip install bs4"
      ],
      "metadata": {
        "colab": {
          "base_uri": "https://localhost:8080/"
        },
        "id": "kMs-1W8RoOak",
        "outputId": "47fccdda-29fe-4b63-c06c-79b9f5b6e562"
      },
      "execution_count": 4,
      "outputs": [
        {
          "output_type": "stream",
          "name": "stdout",
          "text": [
            "Collecting bs4\n",
            "  Downloading bs4-0.0.1.tar.gz (1.1 kB)\n",
            "  Preparing metadata (setup.py) ... \u001b[?25l\u001b[?25hdone\n",
            "Requirement already satisfied: beautifulsoup4 in /usr/local/lib/python3.10/dist-packages (from bs4) (4.11.2)\n",
            "Requirement already satisfied: soupsieve>1.2 in /usr/local/lib/python3.10/dist-packages (from beautifulsoup4->bs4) (2.4.1)\n",
            "Building wheels for collected packages: bs4\n",
            "  Building wheel for bs4 (setup.py) ... \u001b[?25l\u001b[?25hdone\n",
            "  Created wheel for bs4: filename=bs4-0.0.1-py3-none-any.whl size=1256 sha256=28d4448dba53697269494fb43c9eef1bb3aac579507fc7c9ae78111fe966e07d\n",
            "  Stored in directory: /root/.cache/pip/wheels/25/42/45/b773edc52acb16cd2db4cf1a0b47117e2f69bb4eb300ed0e70\n",
            "Successfully built bs4\n",
            "Installing collected packages: bs4\n",
            "Successfully installed bs4-0.0.1\n"
          ]
        }
      ]
    },
    {
      "cell_type": "code",
      "source": [
        "#installing beautifulsoup4\n",
        "!pip install lxml beautifulsoup4"
      ],
      "metadata": {
        "colab": {
          "base_uri": "https://localhost:8080/"
        },
        "id": "toKcpgj-oQm9",
        "outputId": "5b52e528-7810-4704-c65a-63afc104acb8"
      },
      "execution_count": 5,
      "outputs": [
        {
          "output_type": "stream",
          "name": "stdout",
          "text": [
            "Requirement already satisfied: lxml in /usr/local/lib/python3.10/dist-packages (4.9.3)\n",
            "Requirement already satisfied: beautifulsoup4 in /usr/local/lib/python3.10/dist-packages (4.11.2)\n",
            "Requirement already satisfied: soupsieve>1.2 in /usr/local/lib/python3.10/dist-packages (from beautifulsoup4) (2.4.1)\n"
          ]
        }
      ]
    },
    {
      "cell_type": "code",
      "source": [
        "#installing python-terrier\n",
        "!pip install python-terrier"
      ],
      "metadata": {
        "colab": {
          "base_uri": "https://localhost:8080/"
        },
        "id": "o46DeoH7tB8h",
        "outputId": "f24ca197-baf0-435e-a270-39a292c52378"
      },
      "execution_count": 6,
      "outputs": [
        {
          "output_type": "stream",
          "name": "stdout",
          "text": [
            "Collecting python-terrier\n",
            "  Downloading python-terrier-0.9.2.tar.gz (104 kB)\n",
            "\u001b[?25l     \u001b[90m━━━━━━━━━━━━━━━━━━━━━━━━━━━━━━━━━━━━━━━━\u001b[0m \u001b[32m0.0/104.4 kB\u001b[0m \u001b[31m?\u001b[0m eta \u001b[36m-:--:--\u001b[0m\r\u001b[2K     \u001b[91m━━━━━━━━━━━━━━━━━━━━━━━━━━━\u001b[0m\u001b[90m╺\u001b[0m\u001b[90m━━━━━━━━━━━━\u001b[0m \u001b[32m71.7/104.4 kB\u001b[0m \u001b[31m2.0 MB/s\u001b[0m eta \u001b[36m0:00:01\u001b[0m\r\u001b[2K     \u001b[90m━━━━━━━━━━━━━━━━━━━━━━━━━━━━━━━━━━━━━━━\u001b[0m \u001b[32m104.4/104.4 kB\u001b[0m \u001b[31m2.1 MB/s\u001b[0m eta \u001b[36m0:00:00\u001b[0m\n",
            "\u001b[?25h  Preparing metadata (setup.py) ... \u001b[?25l\u001b[?25hdone\n",
            "Requirement already satisfied: numpy in /usr/local/lib/python3.10/dist-packages (from python-terrier) (1.23.5)\n",
            "Requirement already satisfied: pandas in /usr/local/lib/python3.10/dist-packages (from python-terrier) (1.5.3)\n",
            "Collecting wget (from python-terrier)\n",
            "  Downloading wget-3.2.zip (10 kB)\n",
            "  Preparing metadata (setup.py) ... \u001b[?25l\u001b[?25hdone\n",
            "Requirement already satisfied: tqdm in /usr/local/lib/python3.10/dist-packages (from python-terrier) (4.66.1)\n",
            "Collecting pyjnius>=1.4.2 (from python-terrier)\n",
            "  Downloading pyjnius-1.5.0-cp310-cp310-manylinux_2_17_x86_64.manylinux2014_x86_64.whl (1.4 MB)\n",
            "\u001b[2K     \u001b[90m━━━━━━━━━━━━━━━━━━━━━━━━━━━━━━━━━━━━━━━━\u001b[0m \u001b[32m1.4/1.4 MB\u001b[0m \u001b[31m24.2 MB/s\u001b[0m eta \u001b[36m0:00:00\u001b[0m\n",
            "\u001b[?25hCollecting matchpy (from python-terrier)\n",
            "  Downloading matchpy-0.5.5-py3-none-any.whl (69 kB)\n",
            "\u001b[2K     \u001b[90m━━━━━━━━━━━━━━━━━━━━━━━━━━━━━━━━━━━━━━━━\u001b[0m \u001b[32m69.6/69.6 kB\u001b[0m \u001b[31m6.9 MB/s\u001b[0m eta \u001b[36m0:00:00\u001b[0m\n",
            "\u001b[?25hRequirement already satisfied: scikit-learn in /usr/local/lib/python3.10/dist-packages (from python-terrier) (1.2.2)\n",
            "Collecting deprecated (from python-terrier)\n",
            "  Downloading Deprecated-1.2.14-py2.py3-none-any.whl (9.6 kB)\n",
            "Collecting chest (from python-terrier)\n",
            "  Downloading chest-0.2.3.tar.gz (9.6 kB)\n",
            "  Preparing metadata (setup.py) ... \u001b[?25l\u001b[?25hdone\n",
            "Requirement already satisfied: scipy in /usr/local/lib/python3.10/dist-packages (from python-terrier) (1.10.1)\n",
            "Requirement already satisfied: requests in /usr/local/lib/python3.10/dist-packages (from python-terrier) (2.31.0)\n",
            "Requirement already satisfied: joblib in /usr/local/lib/python3.10/dist-packages (from python-terrier) (1.3.2)\n",
            "Collecting nptyping==1.4.4 (from python-terrier)\n",
            "  Downloading nptyping-1.4.4-py3-none-any.whl (31 kB)\n",
            "Requirement already satisfied: more_itertools in /usr/local/lib/python3.10/dist-packages (from python-terrier) (10.1.0)\n",
            "Collecting ir_datasets>=0.3.2 (from python-terrier)\n",
            "  Downloading ir_datasets-0.5.5-py3-none-any.whl (318 kB)\n",
            "\u001b[2K     \u001b[90m━━━━━━━━━━━━━━━━━━━━━━━━━━━━━━━━━━━━━━\u001b[0m \u001b[32m318.0/318.0 kB\u001b[0m \u001b[31m25.6 MB/s\u001b[0m eta \u001b[36m0:00:00\u001b[0m\n",
            "\u001b[?25hRequirement already satisfied: jinja2 in /usr/local/lib/python3.10/dist-packages (from python-terrier) (3.1.2)\n",
            "Requirement already satisfied: statsmodels in /usr/local/lib/python3.10/dist-packages (from python-terrier) (0.14.0)\n",
            "Collecting ir_measures>=0.3.1 (from python-terrier)\n",
            "  Downloading ir_measures-0.3.3.tar.gz (48 kB)\n",
            "\u001b[2K     \u001b[90m━━━━━━━━━━━━━━━━━━━━━━━━━━━━━━━━━━━━━━━━\u001b[0m \u001b[32m48.8/48.8 kB\u001b[0m \u001b[31m4.1 MB/s\u001b[0m eta \u001b[36m0:00:00\u001b[0m\n",
            "\u001b[?25h  Preparing metadata (setup.py) ... \u001b[?25l\u001b[?25hdone\n",
            "Collecting dill (from python-terrier)\n",
            "  Downloading dill-0.3.7-py3-none-any.whl (115 kB)\n",
            "\u001b[2K     \u001b[90m━━━━━━━━━━━━━━━━━━━━━━━━━━━━━━━━━━━━━━\u001b[0m \u001b[32m115.3/115.3 kB\u001b[0m \u001b[31m11.0 MB/s\u001b[0m eta \u001b[36m0:00:00\u001b[0m\n",
            "\u001b[?25hCollecting pytrec_eval_terrier>=0.5.3 (from python-terrier)\n",
            "  Downloading pytrec_eval_terrier-0.5.5-cp310-cp310-manylinux_2_17_x86_64.manylinux2014_x86_64.whl (287 kB)\n",
            "\u001b[2K     \u001b[90m━━━━━━━━━━━━━━━━━━━━━━━━━━━━━━━━━━━━━━\u001b[0m \u001b[32m287.4/287.4 kB\u001b[0m \u001b[31m23.7 MB/s\u001b[0m eta \u001b[36m0:00:00\u001b[0m\n",
            "\u001b[?25hCollecting typish>=1.7.0 (from nptyping==1.4.4->python-terrier)\n",
            "  Downloading typish-1.9.3-py3-none-any.whl (45 kB)\n",
            "\u001b[2K     \u001b[90m━━━━━━━━━━━━━━━━━━━━━━━━━━━━━━━━━━━━━━━━\u001b[0m \u001b[32m45.1/45.1 kB\u001b[0m \u001b[31m4.5 MB/s\u001b[0m eta \u001b[36m0:00:00\u001b[0m\n",
            "\u001b[?25hRequirement already satisfied: beautifulsoup4>=4.4.1 in /usr/local/lib/python3.10/dist-packages (from ir_datasets>=0.3.2->python-terrier) (4.11.2)\n",
            "Collecting inscriptis>=2.2.0 (from ir_datasets>=0.3.2->python-terrier)\n",
            "  Downloading inscriptis-2.3.2-py3-none-any.whl (41 kB)\n",
            "\u001b[2K     \u001b[90m━━━━━━━━━━━━━━━━━━━━━━━━━━━━━━━━━━━━━━━━\u001b[0m \u001b[32m41.2/41.2 kB\u001b[0m \u001b[31m3.9 MB/s\u001b[0m eta \u001b[36m0:00:00\u001b[0m\n",
            "\u001b[?25hRequirement already satisfied: lxml>=4.5.2 in /usr/local/lib/python3.10/dist-packages (from ir_datasets>=0.3.2->python-terrier) (4.9.3)\n",
            "Requirement already satisfied: pyyaml>=5.3.1 in /usr/local/lib/python3.10/dist-packages (from ir_datasets>=0.3.2->python-terrier) (6.0.1)\n",
            "Collecting trec-car-tools>=2.5.4 (from ir_datasets>=0.3.2->python-terrier)\n",
            "  Downloading trec_car_tools-2.6-py3-none-any.whl (8.4 kB)\n",
            "Collecting lz4>=3.1.10 (from ir_datasets>=0.3.2->python-terrier)\n",
            "  Downloading lz4-4.3.2-cp310-cp310-manylinux_2_17_x86_64.manylinux2014_x86_64.whl (1.3 MB)\n",
            "\u001b[2K     \u001b[90m━━━━━━━━━━━━━━━━━━━━━━━━━━━━━━━━━━━━━━━━\u001b[0m \u001b[32m1.3/1.3 MB\u001b[0m \u001b[31m53.2 MB/s\u001b[0m eta \u001b[36m0:00:00\u001b[0m\n",
            "\u001b[?25hCollecting warc3-wet>=0.2.3 (from ir_datasets>=0.3.2->python-terrier)\n",
            "  Downloading warc3_wet-0.2.3-py3-none-any.whl (13 kB)\n",
            "Collecting warc3-wet-clueweb09>=0.2.5 (from ir_datasets>=0.3.2->python-terrier)\n",
            "  Downloading warc3-wet-clueweb09-0.2.5.tar.gz (17 kB)\n",
            "  Preparing metadata (setup.py) ... \u001b[?25l\u001b[?25hdone\n",
            "Collecting zlib-state>=0.1.3 (from ir_datasets>=0.3.2->python-terrier)\n",
            "  Downloading zlib-state-0.1.5.tar.gz (9.4 kB)\n",
            "  Preparing metadata (setup.py) ... \u001b[?25l\u001b[?25hdone\n",
            "Collecting ijson>=3.1.3 (from ir_datasets>=0.3.2->python-terrier)\n",
            "  Downloading ijson-3.2.3-cp310-cp310-manylinux_2_17_x86_64.manylinux2014_x86_64.whl (111 kB)\n",
            "\u001b[2K     \u001b[90m━━━━━━━━━━━━━━━━━━━━━━━━━━━━━━━━━━━━━━━\u001b[0m \u001b[32m111.8/111.8 kB\u001b[0m \u001b[31m6.5 MB/s\u001b[0m eta \u001b[36m0:00:00\u001b[0m\n",
            "\u001b[?25hCollecting pyautocorpus>=0.1.1 (from ir_datasets>=0.3.2->python-terrier)\n",
            "  Downloading pyautocorpus-0.1.12-cp310-cp310-manylinux_2_17_x86_64.manylinux2014_x86_64.whl (379 kB)\n",
            "\u001b[2K     \u001b[90m━━━━━━━━━━━━━━━━━━━━━━━━━━━━━━━━━━━━━━\u001b[0m \u001b[32m379.9/379.9 kB\u001b[0m \u001b[31m28.6 MB/s\u001b[0m eta \u001b[36m0:00:00\u001b[0m\n",
            "\u001b[?25hCollecting unlzw3>=0.2.1 (from ir_datasets>=0.3.2->python-terrier)\n",
            "  Downloading unlzw3-0.2.2-py3-none-any.whl (6.1 kB)\n",
            "Collecting cwl-eval>=1.0.10 (from ir_measures>=0.3.1->python-terrier)\n",
            "  Downloading cwl-eval-1.0.12.tar.gz (31 kB)\n",
            "  Preparing metadata (setup.py) ... \u001b[?25l\u001b[?25hdone\n",
            "Requirement already satisfied: charset-normalizer<4,>=2 in /usr/local/lib/python3.10/dist-packages (from requests->python-terrier) (3.2.0)\n",
            "Requirement already satisfied: idna<4,>=2.5 in /usr/local/lib/python3.10/dist-packages (from requests->python-terrier) (3.4)\n",
            "Requirement already satisfied: urllib3<3,>=1.21.1 in /usr/local/lib/python3.10/dist-packages (from requests->python-terrier) (2.0.4)\n",
            "Requirement already satisfied: certifi>=2017.4.17 in /usr/local/lib/python3.10/dist-packages (from requests->python-terrier) (2023.7.22)\n",
            "Collecting heapdict (from chest->python-terrier)\n",
            "  Downloading HeapDict-1.0.1-py3-none-any.whl (3.9 kB)\n",
            "Requirement already satisfied: wrapt<2,>=1.10 in /usr/local/lib/python3.10/dist-packages (from deprecated->python-terrier) (1.14.1)\n",
            "Requirement already satisfied: MarkupSafe>=2.0 in /usr/local/lib/python3.10/dist-packages (from jinja2->python-terrier) (2.1.3)\n",
            "Collecting multiset<3.0,>=2.0 (from matchpy->python-terrier)\n",
            "  Downloading multiset-2.1.1-py2.py3-none-any.whl (8.8 kB)\n",
            "Requirement already satisfied: python-dateutil>=2.8.1 in /usr/local/lib/python3.10/dist-packages (from pandas->python-terrier) (2.8.2)\n",
            "Requirement already satisfied: pytz>=2020.1 in /usr/local/lib/python3.10/dist-packages (from pandas->python-terrier) (2023.3)\n",
            "Requirement already satisfied: threadpoolctl>=2.0.0 in /usr/local/lib/python3.10/dist-packages (from scikit-learn->python-terrier) (3.2.0)\n",
            "Requirement already satisfied: patsy>=0.5.2 in /usr/local/lib/python3.10/dist-packages (from statsmodels->python-terrier) (0.5.3)\n",
            "Requirement already satisfied: packaging>=21.3 in /usr/local/lib/python3.10/dist-packages (from statsmodels->python-terrier) (23.1)\n",
            "Requirement already satisfied: soupsieve>1.2 in /usr/local/lib/python3.10/dist-packages (from beautifulsoup4>=4.4.1->ir_datasets>=0.3.2->python-terrier) (2.4.1)\n",
            "Requirement already satisfied: six in /usr/local/lib/python3.10/dist-packages (from patsy>=0.5.2->statsmodels->python-terrier) (1.16.0)\n",
            "Collecting cbor>=1.0.0 (from trec-car-tools>=2.5.4->ir_datasets>=0.3.2->python-terrier)\n",
            "  Downloading cbor-1.0.0.tar.gz (20 kB)\n",
            "  Preparing metadata (setup.py) ... \u001b[?25l\u001b[?25hdone\n",
            "Building wheels for collected packages: python-terrier, ir_measures, chest, wget, cwl-eval, warc3-wet-clueweb09, zlib-state, cbor\n",
            "  Building wheel for python-terrier (setup.py) ... \u001b[?25l\u001b[?25hdone\n",
            "  Created wheel for python-terrier: filename=python_terrier-0.9.2-py3-none-any.whl size=112254 sha256=53b48532df77591e7b36e9ba67c8d8f94028ffd944f48769e5eb197a7afbafe2\n",
            "  Stored in directory: /root/.cache/pip/wheels/be/a8/0b/581cbefb648c84263ebf7bbfca2484e81d59f7732fd34ca386\n",
            "  Building wheel for ir_measures (setup.py) ... \u001b[?25l\u001b[?25hdone\n",
            "  Created wheel for ir_measures: filename=ir_measures-0.3.3-py3-none-any.whl size=61183 sha256=f0c702edd1999e77d46ed00fee84f548ca10a5bc3527c7265225c6da9200683e\n",
            "  Stored in directory: /root/.cache/pip/wheels/9f/0e/22/718279f23fef1673a4c5e433881c25080a6afaa147e007183e\n",
            "  Building wheel for chest (setup.py) ... \u001b[?25l\u001b[?25hdone\n",
            "  Created wheel for chest: filename=chest-0.2.3-py3-none-any.whl size=7612 sha256=47f67acc084ee45c11ce11a8650b7f94f4499c133227b2d6cb688887c70f46c5\n",
            "  Stored in directory: /root/.cache/pip/wheels/88/cf/99/4773b31f855f9ecedc32a0ae400f7a4a3001b37c439b6d1a73\n",
            "  Building wheel for wget (setup.py) ... \u001b[?25l\u001b[?25hdone\n",
            "  Created wheel for wget: filename=wget-3.2-py3-none-any.whl size=9655 sha256=35332f4476f7f56899712a60e3a41cd14e9ad7a29978039856a6194ade6a5728\n",
            "  Stored in directory: /root/.cache/pip/wheels/8b/f1/7f/5c94f0a7a505ca1c81cd1d9208ae2064675d97582078e6c769\n",
            "  Building wheel for cwl-eval (setup.py) ... \u001b[?25l\u001b[?25hdone\n",
            "  Created wheel for cwl-eval: filename=cwl_eval-1.0.12-py3-none-any.whl size=38068 sha256=9b6739888329643f8d18bf84d335db210d1e3ba1885591ecd47a5544308560e9\n",
            "  Stored in directory: /root/.cache/pip/wheels/3d/c1/94/94a3e5379b1aa8fb7c7f1ad1956305d5edc98ef745b6067d87\n",
            "  Building wheel for warc3-wet-clueweb09 (setup.py) ... \u001b[?25l\u001b[?25hdone\n",
            "  Created wheel for warc3-wet-clueweb09: filename=warc3_wet_clueweb09-0.2.5-py3-none-any.whl size=18919 sha256=333d10427d5024db0bfb7e75b701b5e3d744870f4c60ccbfd953cfb6b351629d\n",
            "  Stored in directory: /root/.cache/pip/wheels/1a/d7/91/7ffb991df87e62355d945745035470ba2616aa3d83a250b5f9\n",
            "  Building wheel for zlib-state (setup.py) ... \u001b[?25l\u001b[?25hdone\n",
            "  Created wheel for zlib-state: filename=zlib_state-0.1.5-cp310-cp310-linux_x86_64.whl size=21165 sha256=019c339d0a2bdb9e541a1bfc5fdfd594ec5c39273f556151f5ab7b888e77aaab\n",
            "  Stored in directory: /root/.cache/pip/wheels/f8/7a/4e/8fa633b918bea99c052211d41caf8529707d7eae1099d5e5dd\n",
            "  Building wheel for cbor (setup.py) ... \u001b[?25l\u001b[?25hdone\n",
            "  Created wheel for cbor: filename=cbor-1.0.0-cp310-cp310-linux_x86_64.whl size=53433 sha256=5e9b5f7bba2932b94d66e94885490caa162f2c7b76f5165428b709a96839f871\n",
            "  Stored in directory: /root/.cache/pip/wheels/85/df/c9/b39e40eccaf76dbd218556639a6dc81562226f4c6a64902c85\n",
            "Successfully built python-terrier ir_measures chest wget cwl-eval warc3-wet-clueweb09 zlib-state cbor\n",
            "Installing collected packages: wget, warc3-wet-clueweb09, warc3-wet, typish, pyjnius, multiset, ijson, heapdict, cbor, zlib-state, unlzw3, trec-car-tools, pytrec_eval_terrier, pyautocorpus, nptyping, matchpy, lz4, dill, deprecated, cwl-eval, chest, ir_measures, inscriptis, ir_datasets, python-terrier\n",
            "Successfully installed cbor-1.0.0 chest-0.2.3 cwl-eval-1.0.12 deprecated-1.2.14 dill-0.3.7 heapdict-1.0.1 ijson-3.2.3 inscriptis-2.3.2 ir_datasets-0.5.5 ir_measures-0.3.3 lz4-4.3.2 matchpy-0.5.5 multiset-2.1.1 nptyping-1.4.4 pyautocorpus-0.1.12 pyjnius-1.5.0 python-terrier-0.9.2 pytrec_eval_terrier-0.5.5 trec-car-tools-2.6 typish-1.9.3 unlzw3-0.2.2 warc3-wet-0.2.3 warc3-wet-clueweb09-0.2.5 wget-3.2 zlib-state-0.1.5\n"
          ]
        }
      ]
    },
    {
      "cell_type": "code",
      "source": [
        "# import zipfile\n",
        "\n",
        "# # Specify the path to the zip file and the destination directory for extraction\n",
        "# zip_file_path = '/content/drive/MyDrive/gujarati_corpus.zip'\n",
        "# extracted_dir_path = '/content/drive/MyDrive/Gujarati_dataset'\n",
        "\n",
        "# # Open the zip file\n",
        "# with zipfile.ZipFile(zip_file_path, 'r') as zip_ref:\n",
        "#     # Extract all contents to the specified directory\n",
        "#     zip_ref.extractall(extracted_dir_path)"
      ],
      "metadata": {
        "id": "QNPEOL9l-Xnf"
      },
      "execution_count": 45,
      "outputs": []
    },
    {
      "cell_type": "code",
      "source": [
        "# import tarfile\n",
        "\n",
        "# # Specify the path to the tar file and the destination directory for extraction\n",
        "# tar_file_path = '/content/drive/MyDrive/Gujarati_dataset/gujarati_corpus/gu.docs.2011.tar'\n",
        "# extracted_dir_path = '/content/drive/MyDrive/Gujarati_dataset/GUJ_DOCS'\n",
        "\n",
        "# # Open the tar file\n",
        "# with tarfile.open(tar_file_path, 'r') as tar_ref:\n",
        "#     # Extract all contents to the specified directory\n",
        "#     tar_ref.extractall(extracted_dir_path)"
      ],
      "metadata": {
        "id": "imQ__sDd-cip"
      },
      "execution_count": 46,
      "outputs": []
    },
    {
      "cell_type": "code",
      "source": [
        "# import tarfile\n",
        "\n",
        "# # Specify the path to the .tgz file and the destination directory for extraction\n",
        "# tgz_file_path = '/content/drive/MyDrive/Gujarati_dataset/GUJ_DOCS/gu.docs.2011/gu_GujaratSamachar.tgz'\n",
        "# extracted_dir_path = '/content/drive/MyDrive/Gujarati_dataset/GUJ_DOCS/gu.docs.2011/GujaratSamachar'\n",
        "\n",
        "# # Open the .tgz file\n",
        "# with tarfile.open(tgz_file_path, 'r:gz') as tar_ref:\n",
        "#     # Extract all contents to the specified directory\n",
        "#     tar_ref.extractall(extracted_dir_path)"
      ],
      "metadata": {
        "id": "XH18nlsn-g0o"
      },
      "execution_count": 47,
      "outputs": []
    },
    {
      "cell_type": "code",
      "source": [
        "#importing pandas\n",
        "import pandas as pd"
      ],
      "metadata": {
        "id": "L7_KfhmI1nmH"
      },
      "execution_count": 7,
      "outputs": []
    },
    {
      "cell_type": "code",
      "source": [
        "# Loading the pickle file\n",
        "all_docs = pd.read_pickle('/content/drive/MyDrive/Copy of guj_all_docs.pkl')"
      ],
      "metadata": {
        "id": "KKNrZhVAqXHV"
      },
      "execution_count": 8,
      "outputs": []
    },
    {
      "cell_type": "code",
      "source": [
        "all_docs.head(10)"
      ],
      "metadata": {
        "colab": {
          "base_uri": "https://localhost:8080/",
          "height": 362
        },
        "id": "lHInQa96ryvK",
        "outputId": "5a319c3f-bc12-4cad-af0d-1cae24fff21c"
      },
      "execution_count": 9,
      "outputs": [
        {
          "output_type": "execute_result",
          "data": {
            "text/plain": [
              "                                               docno  \\\n",
              "0  gujarat_samachar_date_20020101_guj_astro_1_din...   \n",
              "1   gujarat_samachar_date_20020101_guj_astro_2_index   \n",
              "2      gujarat_samachar_date_20020101_guj_busi_1_ahd   \n",
              "3     gujarat_samachar_date_20020101_guj_busi_2_asps   \n",
              "4    gujarat_samachar_date_20020101_guj_busi_3_bazar   \n",
              "5     gujarat_samachar_date_20020101_guj_busi_4_como   \n",
              "6    gujarat_samachar_date_20020101_guj_busi_5_index   \n",
              "7     gujarat_samachar_date_20020101_guj_busi_6_main   \n",
              "8  gujarat_samachar_date_20020101_guj_demise_1_index   \n",
              "9    gujarat_samachar_date_20020101_guj_entr_2_index   \n",
              "\n",
              "                                                text  \n",
              "0  આજે પહેલી જાન્યુઆરી, માગશર વદ  બીજ, ખ્રિસ્તી ન...  \n",
              "1  વિક્રમ  સંવત : ૨૦૫૮ શાકે ૧૯૨૩, જૈનવીર સંવત : ૨...  \n",
              "2  ડીએસક્યુ ૪૭.૭૫, ૫૨.૭૫\\nલાર્સન ૧૮૩.૮૫, ૧૯૨.૭૫, ...  \n",
              "3  'બીગબુલ હર્ષદ મહેતા'. તમે  ક્યાં છો? તમને 'બુલ...  \n",
              "4  તેલ તેલીબીયાં\\nચાલુ ડબો ૫૫૦-૫૬૦\\nલેબલટીન ૫૯૦-૬...  \n",
              "5  મુંબઈ,સોમવાર\\nમુંબઈ સોના-ચાંદી બજારમાં આજે  સો...  \n",
              "6  મુંબઈ, સોમવાર\\nમુંબઈ શેરબજારમાં આજે સાર્વત્રિક...  \n",
              "7  એ ગ્રુપ\\nએ.સી.સી. ૧૪૨,૧૫૩.૨૫,૧૫૧.૮૦\\nએબીબી લી....  \n",
              "8  અમદાવાદ \\n- બાબુલાલ હીરાલાલ શાહના ધર્મપત્ની  જ...  \n",
              "9  એક બાજુ પોતાની ગરદનમાં સખ્ત દર્દ થતું  હોવા છત...  "
            ],
            "text/html": [
              "\n",
              "  <div id=\"df-05c36e1d-ab05-4bab-9f26-9ad347dbe369\" class=\"colab-df-container\">\n",
              "    <div>\n",
              "<style scoped>\n",
              "    .dataframe tbody tr th:only-of-type {\n",
              "        vertical-align: middle;\n",
              "    }\n",
              "\n",
              "    .dataframe tbody tr th {\n",
              "        vertical-align: top;\n",
              "    }\n",
              "\n",
              "    .dataframe thead th {\n",
              "        text-align: right;\n",
              "    }\n",
              "</style>\n",
              "<table border=\"1\" class=\"dataframe\">\n",
              "  <thead>\n",
              "    <tr style=\"text-align: right;\">\n",
              "      <th></th>\n",
              "      <th>docno</th>\n",
              "      <th>text</th>\n",
              "    </tr>\n",
              "  </thead>\n",
              "  <tbody>\n",
              "    <tr>\n",
              "      <th>0</th>\n",
              "      <td>gujarat_samachar_date_20020101_guj_astro_1_din...</td>\n",
              "      <td>આજે પહેલી જાન્યુઆરી, માગશર વદ  બીજ, ખ્રિસ્તી ન...</td>\n",
              "    </tr>\n",
              "    <tr>\n",
              "      <th>1</th>\n",
              "      <td>gujarat_samachar_date_20020101_guj_astro_2_index</td>\n",
              "      <td>વિક્રમ  સંવત : ૨૦૫૮ શાકે ૧૯૨૩, જૈનવીર સંવત : ૨...</td>\n",
              "    </tr>\n",
              "    <tr>\n",
              "      <th>2</th>\n",
              "      <td>gujarat_samachar_date_20020101_guj_busi_1_ahd</td>\n",
              "      <td>ડીએસક્યુ ૪૭.૭૫, ૫૨.૭૫\\nલાર્સન ૧૮૩.૮૫, ૧૯૨.૭૫, ...</td>\n",
              "    </tr>\n",
              "    <tr>\n",
              "      <th>3</th>\n",
              "      <td>gujarat_samachar_date_20020101_guj_busi_2_asps</td>\n",
              "      <td>'બીગબુલ હર્ષદ મહેતા'. તમે  ક્યાં છો? તમને 'બુલ...</td>\n",
              "    </tr>\n",
              "    <tr>\n",
              "      <th>4</th>\n",
              "      <td>gujarat_samachar_date_20020101_guj_busi_3_bazar</td>\n",
              "      <td>તેલ તેલીબીયાં\\nચાલુ ડબો ૫૫૦-૫૬૦\\nલેબલટીન ૫૯૦-૬...</td>\n",
              "    </tr>\n",
              "    <tr>\n",
              "      <th>5</th>\n",
              "      <td>gujarat_samachar_date_20020101_guj_busi_4_como</td>\n",
              "      <td>મુંબઈ,સોમવાર\\nમુંબઈ સોના-ચાંદી બજારમાં આજે  સો...</td>\n",
              "    </tr>\n",
              "    <tr>\n",
              "      <th>6</th>\n",
              "      <td>gujarat_samachar_date_20020101_guj_busi_5_index</td>\n",
              "      <td>મુંબઈ, સોમવાર\\nમુંબઈ શેરબજારમાં આજે સાર્વત્રિક...</td>\n",
              "    </tr>\n",
              "    <tr>\n",
              "      <th>7</th>\n",
              "      <td>gujarat_samachar_date_20020101_guj_busi_6_main</td>\n",
              "      <td>એ ગ્રુપ\\nએ.સી.સી. ૧૪૨,૧૫૩.૨૫,૧૫૧.૮૦\\nએબીબી લી....</td>\n",
              "    </tr>\n",
              "    <tr>\n",
              "      <th>8</th>\n",
              "      <td>gujarat_samachar_date_20020101_guj_demise_1_index</td>\n",
              "      <td>અમદાવાદ \\n- બાબુલાલ હીરાલાલ શાહના ધર્મપત્ની  જ...</td>\n",
              "    </tr>\n",
              "    <tr>\n",
              "      <th>9</th>\n",
              "      <td>gujarat_samachar_date_20020101_guj_entr_2_index</td>\n",
              "      <td>એક બાજુ પોતાની ગરદનમાં સખ્ત દર્દ થતું  હોવા છત...</td>\n",
              "    </tr>\n",
              "  </tbody>\n",
              "</table>\n",
              "</div>\n",
              "    <div class=\"colab-df-buttons\">\n",
              "\n",
              "  <div class=\"colab-df-container\">\n",
              "    <button class=\"colab-df-convert\" onclick=\"convertToInteractive('df-05c36e1d-ab05-4bab-9f26-9ad347dbe369')\"\n",
              "            title=\"Convert this dataframe to an interactive table.\"\n",
              "            style=\"display:none;\">\n",
              "\n",
              "  <svg xmlns=\"http://www.w3.org/2000/svg\" height=\"24px\" viewBox=\"0 -960 960 960\">\n",
              "    <path d=\"M120-120v-720h720v720H120Zm60-500h600v-160H180v160Zm220 220h160v-160H400v160Zm0 220h160v-160H400v160ZM180-400h160v-160H180v160Zm440 0h160v-160H620v160ZM180-180h160v-160H180v160Zm440 0h160v-160H620v160Z\"/>\n",
              "  </svg>\n",
              "    </button>\n",
              "\n",
              "  <style>\n",
              "    .colab-df-container {\n",
              "      display:flex;\n",
              "      gap: 12px;\n",
              "    }\n",
              "\n",
              "    .colab-df-convert {\n",
              "      background-color: #E8F0FE;\n",
              "      border: none;\n",
              "      border-radius: 50%;\n",
              "      cursor: pointer;\n",
              "      display: none;\n",
              "      fill: #1967D2;\n",
              "      height: 32px;\n",
              "      padding: 0 0 0 0;\n",
              "      width: 32px;\n",
              "    }\n",
              "\n",
              "    .colab-df-convert:hover {\n",
              "      background-color: #E2EBFA;\n",
              "      box-shadow: 0px 1px 2px rgba(60, 64, 67, 0.3), 0px 1px 3px 1px rgba(60, 64, 67, 0.15);\n",
              "      fill: #174EA6;\n",
              "    }\n",
              "\n",
              "    .colab-df-buttons div {\n",
              "      margin-bottom: 4px;\n",
              "    }\n",
              "\n",
              "    [theme=dark] .colab-df-convert {\n",
              "      background-color: #3B4455;\n",
              "      fill: #D2E3FC;\n",
              "    }\n",
              "\n",
              "    [theme=dark] .colab-df-convert:hover {\n",
              "      background-color: #434B5C;\n",
              "      box-shadow: 0px 1px 3px 1px rgba(0, 0, 0, 0.15);\n",
              "      filter: drop-shadow(0px 1px 2px rgba(0, 0, 0, 0.3));\n",
              "      fill: #FFFFFF;\n",
              "    }\n",
              "  </style>\n",
              "\n",
              "    <script>\n",
              "      const buttonEl =\n",
              "        document.querySelector('#df-05c36e1d-ab05-4bab-9f26-9ad347dbe369 button.colab-df-convert');\n",
              "      buttonEl.style.display =\n",
              "        google.colab.kernel.accessAllowed ? 'block' : 'none';\n",
              "\n",
              "      async function convertToInteractive(key) {\n",
              "        const element = document.querySelector('#df-05c36e1d-ab05-4bab-9f26-9ad347dbe369');\n",
              "        const dataTable =\n",
              "          await google.colab.kernel.invokeFunction('convertToInteractive',\n",
              "                                                    [key], {});\n",
              "        if (!dataTable) return;\n",
              "\n",
              "        const docLinkHtml = 'Like what you see? Visit the ' +\n",
              "          '<a target=\"_blank\" href=https://colab.research.google.com/notebooks/data_table.ipynb>data table notebook</a>'\n",
              "          + ' to learn more about interactive tables.';\n",
              "        element.innerHTML = '';\n",
              "        dataTable['output_type'] = 'display_data';\n",
              "        await google.colab.output.renderOutput(dataTable, element);\n",
              "        const docLink = document.createElement('div');\n",
              "        docLink.innerHTML = docLinkHtml;\n",
              "        element.appendChild(docLink);\n",
              "      }\n",
              "    </script>\n",
              "  </div>\n",
              "\n",
              "\n",
              "<div id=\"df-5443b33b-4070-4fb2-836b-5c46f0fd1d18\">\n",
              "  <button class=\"colab-df-quickchart\" onclick=\"quickchart('df-5443b33b-4070-4fb2-836b-5c46f0fd1d18')\"\n",
              "            title=\"Suggest charts.\"\n",
              "            style=\"display:none;\">\n",
              "\n",
              "<svg xmlns=\"http://www.w3.org/2000/svg\" height=\"24px\"viewBox=\"0 0 24 24\"\n",
              "     width=\"24px\">\n",
              "    <g>\n",
              "        <path d=\"M19 3H5c-1.1 0-2 .9-2 2v14c0 1.1.9 2 2 2h14c1.1 0 2-.9 2-2V5c0-1.1-.9-2-2-2zM9 17H7v-7h2v7zm4 0h-2V7h2v10zm4 0h-2v-4h2v4z\"/>\n",
              "    </g>\n",
              "</svg>\n",
              "  </button>\n",
              "\n",
              "<style>\n",
              "  .colab-df-quickchart {\n",
              "      --bg-color: #E8F0FE;\n",
              "      --fill-color: #1967D2;\n",
              "      --hover-bg-color: #E2EBFA;\n",
              "      --hover-fill-color: #174EA6;\n",
              "      --disabled-fill-color: #AAA;\n",
              "      --disabled-bg-color: #DDD;\n",
              "  }\n",
              "\n",
              "  [theme=dark] .colab-df-quickchart {\n",
              "      --bg-color: #3B4455;\n",
              "      --fill-color: #D2E3FC;\n",
              "      --hover-bg-color: #434B5C;\n",
              "      --hover-fill-color: #FFFFFF;\n",
              "      --disabled-bg-color: #3B4455;\n",
              "      --disabled-fill-color: #666;\n",
              "  }\n",
              "\n",
              "  .colab-df-quickchart {\n",
              "    background-color: var(--bg-color);\n",
              "    border: none;\n",
              "    border-radius: 50%;\n",
              "    cursor: pointer;\n",
              "    display: none;\n",
              "    fill: var(--fill-color);\n",
              "    height: 32px;\n",
              "    padding: 0;\n",
              "    width: 32px;\n",
              "  }\n",
              "\n",
              "  .colab-df-quickchart:hover {\n",
              "    background-color: var(--hover-bg-color);\n",
              "    box-shadow: 0 1px 2px rgba(60, 64, 67, 0.3), 0 1px 3px 1px rgba(60, 64, 67, 0.15);\n",
              "    fill: var(--button-hover-fill-color);\n",
              "  }\n",
              "\n",
              "  .colab-df-quickchart-complete:disabled,\n",
              "  .colab-df-quickchart-complete:disabled:hover {\n",
              "    background-color: var(--disabled-bg-color);\n",
              "    fill: var(--disabled-fill-color);\n",
              "    box-shadow: none;\n",
              "  }\n",
              "\n",
              "  .colab-df-spinner {\n",
              "    border: 2px solid var(--fill-color);\n",
              "    border-color: transparent;\n",
              "    border-bottom-color: var(--fill-color);\n",
              "    animation:\n",
              "      spin 1s steps(1) infinite;\n",
              "  }\n",
              "\n",
              "  @keyframes spin {\n",
              "    0% {\n",
              "      border-color: transparent;\n",
              "      border-bottom-color: var(--fill-color);\n",
              "      border-left-color: var(--fill-color);\n",
              "    }\n",
              "    20% {\n",
              "      border-color: transparent;\n",
              "      border-left-color: var(--fill-color);\n",
              "      border-top-color: var(--fill-color);\n",
              "    }\n",
              "    30% {\n",
              "      border-color: transparent;\n",
              "      border-left-color: var(--fill-color);\n",
              "      border-top-color: var(--fill-color);\n",
              "      border-right-color: var(--fill-color);\n",
              "    }\n",
              "    40% {\n",
              "      border-color: transparent;\n",
              "      border-right-color: var(--fill-color);\n",
              "      border-top-color: var(--fill-color);\n",
              "    }\n",
              "    60% {\n",
              "      border-color: transparent;\n",
              "      border-right-color: var(--fill-color);\n",
              "    }\n",
              "    80% {\n",
              "      border-color: transparent;\n",
              "      border-right-color: var(--fill-color);\n",
              "      border-bottom-color: var(--fill-color);\n",
              "    }\n",
              "    90% {\n",
              "      border-color: transparent;\n",
              "      border-bottom-color: var(--fill-color);\n",
              "    }\n",
              "  }\n",
              "</style>\n",
              "\n",
              "  <script>\n",
              "    async function quickchart(key) {\n",
              "      const quickchartButtonEl =\n",
              "        document.querySelector('#' + key + ' button');\n",
              "      quickchartButtonEl.disabled = true;  // To prevent multiple clicks.\n",
              "      quickchartButtonEl.classList.add('colab-df-spinner');\n",
              "      try {\n",
              "        const charts = await google.colab.kernel.invokeFunction(\n",
              "            'suggestCharts', [key], {});\n",
              "      } catch (error) {\n",
              "        console.error('Error during call to suggestCharts:', error);\n",
              "      }\n",
              "      quickchartButtonEl.classList.remove('colab-df-spinner');\n",
              "      quickchartButtonEl.classList.add('colab-df-quickchart-complete');\n",
              "    }\n",
              "    (() => {\n",
              "      let quickchartButtonEl =\n",
              "        document.querySelector('#df-5443b33b-4070-4fb2-836b-5c46f0fd1d18 button');\n",
              "      quickchartButtonEl.style.display =\n",
              "        google.colab.kernel.accessAllowed ? 'block' : 'none';\n",
              "    })();\n",
              "  </script>\n",
              "</div>\n",
              "    </div>\n",
              "  </div>\n"
            ]
          },
          "metadata": {},
          "execution_count": 9
        }
      ]
    },
    {
      "cell_type": "code",
      "source": [
        "all_docs.shape"
      ],
      "metadata": {
        "colab": {
          "base_uri": "https://localhost:8080/"
        },
        "id": "kkAfI2W0rfD2",
        "outputId": "558915a8-e6f0-4da4-d2f1-f8d99eb89be9"
      },
      "execution_count": 10,
      "outputs": [
        {
          "output_type": "execute_result",
          "data": {
            "text/plain": [
              "(313163, 2)"
            ]
          },
          "metadata": {},
          "execution_count": 10
        }
      ]
    },
    {
      "cell_type": "code",
      "source": [
        "!git clone https://github.com/anoopkunchukuttan/indic_nlp_resources.git"
      ],
      "metadata": {
        "colab": {
          "base_uri": "https://localhost:8080/"
        },
        "id": "-yUalIX0r1Ld",
        "outputId": "d8b01f9a-0687-4432-f2cf-e75da2188791"
      },
      "execution_count": 12,
      "outputs": [
        {
          "output_type": "stream",
          "name": "stdout",
          "text": [
            "Cloning into 'indic_nlp_resources'...\n",
            "remote: Enumerating objects: 139, done.\u001b[K\n",
            "remote: Counting objects: 100% (13/13), done.\u001b[K\n",
            "remote: Compressing objects: 100% (13/13), done.\u001b[K\n",
            "remote: Total 139 (delta 2), reused 2 (delta 0), pack-reused 126\u001b[K\n",
            "Receiving objects: 100% (139/139), 149.77 MiB | 12.57 MiB/s, done.\n",
            "Resolving deltas: 100% (53/53), done.\n",
            "Updating files: 100% (28/28), done.\n"
          ]
        }
      ]
    },
    {
      "cell_type": "code",
      "source": [
        "!git clone https://github.com/anoopkunchukuttan/indic_nlp_library.git"
      ],
      "metadata": {
        "colab": {
          "base_uri": "https://localhost:8080/"
        },
        "id": "KmHrlLt0sRVQ",
        "outputId": "9ff97211-d4b5-415d-d8b2-e028a0cdd4bc"
      },
      "execution_count": 11,
      "outputs": [
        {
          "output_type": "stream",
          "name": "stdout",
          "text": [
            "Cloning into 'indic_nlp_library'...\n",
            "remote: Enumerating objects: 1396, done.\u001b[K\n",
            "remote: Counting objects: 100% (177/177), done.\u001b[K\n",
            "remote: Compressing objects: 100% (69/69), done.\u001b[K\n",
            "remote: Total 1396 (delta 133), reused 119 (delta 105), pack-reused 1219\u001b[K\n",
            "Receiving objects: 100% (1396/1396), 9.57 MiB | 7.15 MiB/s, done.\n",
            "Resolving deltas: 100% (743/743), done.\n"
          ]
        }
      ]
    },
    {
      "cell_type": "code",
      "source": [
        "# The path to the local git repo for Indic NLP library\n",
        "INDIC_NLP_LIB_HOME=r\"/content/indic_nlp_library\"\n",
        "\n",
        "# The path to the local git repo for Indic NLP Resources\n",
        "INDIC_NLP_RESOURCES=r\"/content/indic_nlp_resources\"\n",
        "\n",
        "# Add library to Python path\n",
        "sys.path.append(r'{}\\src'.format(INDIC_NLP_LIB_HOME))\n",
        "common.set_resources_path(INDIC_NLP_RESOURCES)"
      ],
      "metadata": {
        "id": "9NWkMntnsU_o"
      },
      "execution_count": 13,
      "outputs": []
    },
    {
      "cell_type": "code",
      "source": [
        "# Create an instance of the IndicNormalizerFactory class\n",
        "factory = IndicNormalizerFactory()\n",
        "# Use the factory to get a normalizer object for the Gujarati language (\"gu\")\n",
        "normalizer = factory.get_normalizer(\"gu\")"
      ],
      "metadata": {
        "id": "6-r6zpRysZ0-"
      },
      "execution_count": 14,
      "outputs": []
    },
    {
      "cell_type": "code",
      "source": [
        "lst = []\n",
        "# Loop through each row in the DataFrame\n",
        "for i in range(all_docs.shape[0]):\n",
        "  id = all_docs.iloc[i]['docno']\n",
        "  text = normalizer.normalize(all_docs.iloc[i]['text'])\n",
        "  text = indic_tokenize.trivial_tokenize(text, lang=\"gu\")\n",
        "  text = ' '.join([i for i in text if i not in '''!()-[]{};:'\"\\,<>./?@#$%^&*_~'''])\n",
        "  lst.append([id, text])"
      ],
      "metadata": {
        "id": "9m861MCksx-l"
      },
      "execution_count": 15,
      "outputs": []
    },
    {
      "cell_type": "code",
      "source": [
        "main = pd.DataFrame(lst, columns=['docno', 'text'])"
      ],
      "metadata": {
        "id": "5zfoxLjQs6t6"
      },
      "execution_count": 16,
      "outputs": []
    },
    {
      "cell_type": "code",
      "source": [
        "import pyterrier as pt\n",
        "if not pt.started():\n",
        "  pt.init()"
      ],
      "metadata": {
        "colab": {
          "base_uri": "https://localhost:8080/"
        },
        "id": "V2cuXIDWtH3_",
        "outputId": "bd38d584-70b0-471d-8890-cb8d17b5ceed"
      },
      "execution_count": 17,
      "outputs": [
        {
          "output_type": "stream",
          "name": "stdout",
          "text": [
            "terrier-assemblies 5.7 jar-with-dependencies not found, downloading to /root/.pyterrier...\n",
            "Done\n",
            "terrier-python-helper 0.0.7 jar not found, downloading to /root/.pyterrier...\n",
            "Done\n"
          ]
        },
        {
          "output_type": "stream",
          "name": "stderr",
          "text": [
            "PyTerrier 0.9.2 has loaded Terrier 5.7 (built by craigm on 2022-11-10 18:30) and terrier-helper 0.0.7\n",
            "\n"
          ]
        }
      ]
    },
    {
      "cell_type": "code",
      "source": [
        "#create an index using the DFIndexer\n",
        "terr_Indexer = pt.DFIndexer(\"./pd_index\", overwrite=True, tokeniser='UTFTokeniser')\n",
        "index = terr_Indexer.index(main['text'], main['docno'])"
      ],
      "metadata": {
        "colab": {
          "base_uri": "https://localhost:8080/"
        },
        "id": "_2AqWNHPtOn9",
        "outputId": "86378b38-0257-4c08-f554-298971a9b10c"
      },
      "execution_count": 18,
      "outputs": [
        {
          "output_type": "stream",
          "name": "stderr",
          "text": [
            "/usr/local/lib/python3.10/dist-packages/pyterrier/index.py:628: FutureWarning: iteritems is deprecated and will be removed in a future version. Use .items instead.\n",
            "  for column, value in meta_column[1].iteritems():\n"
          ]
        }
      ]
    },
    {
      "cell_type": "code",
      "source": [
        "# This code reads the content of a file located at the specified directory\n",
        "dir = \"/content/drive/MyDrive/Classroom/gu.topics.176-225.2012.txt\"\n",
        "with open(dir, \"r\") as file:\n",
        "  content = file.read()"
      ],
      "metadata": {
        "id": "kOuGTy6StT82"
      },
      "execution_count": 20,
      "outputs": []
    },
    {
      "cell_type": "code",
      "source": [
        "xml_soup = BeautifulSoup(content, \"xml\")"
      ],
      "metadata": {
        "id": "OXOYO349tcOa"
      },
      "execution_count": 21,
      "outputs": []
    },
    {
      "cell_type": "code",
      "source": [
        "# Find all 'nums', 'titles', 'descs' and 'narrs' elements using BeautifulSoup\n",
        "querynums = xml_soup.find_all('num')\n",
        "titles = xml_soup.find_all('title')\n",
        "descs = xml_soup.find_all('desc')\n",
        "narrs = xml_soup.find_all('narr')"
      ],
      "metadata": {
        "id": "vGW7lf5Ptiqq"
      },
      "execution_count": 22,
      "outputs": []
    },
    {
      "cell_type": "code",
      "source": [
        "querynums"
      ],
      "metadata": {
        "colab": {
          "base_uri": "https://localhost:8080/"
        },
        "id": "jCe170cCtoPw",
        "outputId": "7c002e54-36ff-4ee1-a261-1b7ed03004c8"
      },
      "execution_count": 23,
      "outputs": [
        {
          "output_type": "execute_result",
          "data": {
            "text/plain": [
              "[<num>176</num>,\n",
              " <num>177</num>,\n",
              " <num>178</num>,\n",
              " <num>179</num>,\n",
              " <num>180</num>,\n",
              " <num>181</num>,\n",
              " <num>182</num>,\n",
              " <num>183</num>,\n",
              " <num>184</num>,\n",
              " <num>185</num>,\n",
              " <num>186</num>,\n",
              " <num>187</num>,\n",
              " <num>188</num>,\n",
              " <num>189</num>,\n",
              " <num>190</num>,\n",
              " <num>191</num>,\n",
              " <num>192</num>,\n",
              " <num>193</num>,\n",
              " <num>194</num>,\n",
              " <num>195</num>,\n",
              " <num>196</num>,\n",
              " <num>197</num>,\n",
              " <num>198</num>,\n",
              " <num>199</num>,\n",
              " <num>200</num>,\n",
              " <num>201</num>,\n",
              " <num>202</num>,\n",
              " <num>203</num>,\n",
              " <num>204</num>,\n",
              " <num>205</num>,\n",
              " <num>206</num>,\n",
              " <num>207</num>,\n",
              " <num>208</num>,\n",
              " <num>209</num>,\n",
              " <num>210</num>,\n",
              " <num>211</num>,\n",
              " <num>212</num>,\n",
              " <num>213</num>,\n",
              " <num>214</num>,\n",
              " <num>215</num>,\n",
              " <num>216</num>,\n",
              " <num>217</num>,\n",
              " <num>218</num>,\n",
              " <num>219</num>,\n",
              " <num>220</num>,\n",
              " <num>221</num>,\n",
              " <num>222</num>,\n",
              " <num>223</num>,\n",
              " <num>224</num>,\n",
              " <num>225</num>]"
            ]
          },
          "metadata": {},
          "execution_count": 23
        }
      ]
    },
    {
      "cell_type": "code",
      "source": [
        "titles"
      ],
      "metadata": {
        "colab": {
          "base_uri": "https://localhost:8080/"
        },
        "id": "iZjS_5TMtobX",
        "outputId": "b0f9e7e0-c7c0-4583-bbae-5cb9fe7ab025"
      },
      "execution_count": 24,
      "outputs": [
        {
          "output_type": "execute_result",
          "data": {
            "text/plain": [
              "[<title>વાય.એસ.આર. રેડ્ડી ની મૌત</title>,\n",
              " <title>સંગીતકારો ભારત રત્ન</title>,\n",
              " <title>એમ.જી.એન.આર.ઈ.જી.એ. યોજના</title>,\n",
              " <title>ઑસ્ટ્રેલિયન એલચી કચેરી સામે બોમ્બમારો</title>,\n",
              " <title>યુરો અપનાવાતા દેશો</title>,\n",
              " <title>પ્રથમ ક્રિકેટર જેણે 700 ટેસ્ટ વિકેટ લીધી</title>,\n",
              " <title>સ્ટીવ ઇરવીન ની મૃત્યુ</title>,\n",
              " <title>ગુવાહાટી 2008 બોમ્બમારામાં નુકસાન</title>,\n",
              " <title>ચામુંડા મંદિર માં નાસભાગ</title>,\n",
              " <title>આદર્શ હાઉસિંગ સોસાયટી કૌભાંડમાં રાજીનામું</title>,\n",
              " <title>ઑસ્ટ્રેલિયામાં ભારતીય વિદ્યાર્થીઓ પર હુમલા</title>,\n",
              " <title>દિલ્હી મેટ્રો સેવાઓ ની શરૂઆત</title>,\n",
              " <title>ભારતીય નાગરિક પાકિસ્તાની જાસૂસ</title>,\n",
              " <title>શિક્ષણ મેળવવાનો અધિકાર અધિનિયમ</title>,\n",
              " <title>જસવંત સિંઘની ભાજપમાંથી બરતરફી</title>,\n",
              " <title>ગોરખાલેન્ડની માંગ</title>,\n",
              " <title>શ્રીલંકાની રાષ્ટ્રીય ક્રિકેટ ટીમ પર હુમલો</title>,\n",
              " <title>ભારતની પ્રથમ મહિલા સ્પીકર</title>,\n",
              " <title>૨૦૦૧ માં સાહિત્ય માટે નોબેલ પારિતોષિક વિજેતા</title>,\n",
              " <title>૨૦૦૩ અસિયાન કપ વિજેતા</title>,\n",
              " <title>૨૦૦૧ ની ભારતની વસ્તી ગણતરી</title>,\n",
              " <title>ભુજ માં ભૂકંપ</title>,\n",
              " <title>ધોની કપ્તાન ભારતીય ટીમ</title>,\n",
              " <title>પયગંબર મુહમ્મદ કાર્ટુન આંદોલન</title>,\n",
              " <title>નેટવેસ્ટ ૨૦૦૨ સીરિઝ પરિણામો</title>,\n",
              " <title>પ્રથમ ઇરાકી ચૂંટણી</title>,\n",
              " <title>ખ્યાત્નામ વ્યક્તિઓ પર જૂતા ફેંકી ને હુમલો</title>,\n",
              " <title>ભારતનું પ્રથમ માનવરહિત ચંદ્ર અભિયાન</title>,\n",
              " <title>ભારતીય સંસદ પર આતંકવાદી હુમલો</title>,\n",
              " <title>પોલિયો નાબૂદી મિશન</title>,\n",
              " <title>આરોપી અજમલ કસાબ</title>,\n",
              " <title>સાનિયા મિર્ઝા ના લગ્ન</title>,\n",
              " <title>મહેન્દ્ર સિંઘ ધોની ને રાષ્ટ્રીય પુરસ્કાર</title>,\n",
              " <title>યુપીએ માંથી ડાબેરી મોરચાએ આધાર પાછો ખેંચ્યો</title>,\n",
              " <title>મિગ ભંગાણ પશ્ચિમ બંગાળ</title>,\n",
              " <title>વિશ્વ અહિંસા દિવસ</title>,\n",
              " <title>ફિલ્મ સેન્સર બોર્ડ મહિલા અધ્યક્ષ</title>,\n",
              " <title>૨૦૧૦ ઓટો એક્સ્પો દિલ્હી</title>,\n",
              " <title>હરભજન સિંઘએ શ્રીસંત ને થપ્પડ મારી</title>,\n",
              " <title>ભારતીય એનિમેશન ઉદ્યોગ ફિલ્મો</title>,\n",
              " <title>ગ્રામીણ બેન્ક મુહમ્મદ યુનુસ વિવાદ</title>,\n",
              " <title>દા વિન્સી કોડ ભારત પ્રકાશન વિવાદ</title>,\n",
              " <title>સર્વાઇકલ કેન્સર વિશે જાગૃતિ અને સારવાર માટેની રસી</title>,\n",
              " <title>ભારતમાં પ્રથમ એફ ૧ સર્કિટ</title>,\n",
              " <title>સ્ટીવ વૌઘ આંતરરાષ્ટ્રીય ક્રિકેટ નિવૃત્તિ</title>,\n",
              " <title>બિલ અને મેલિન્ડા ગેટ્સ ફાઉન્ડેશન ની ભારતમાં પરોપકારી પ્રવૃત્તિઓ</title>,\n",
              " <title>ગ્રીસ યુરો કપ ૨૦૦૪ વિજય</title>,\n",
              " <title>ઈમરાન ખાન કેન્સર અસ્પતાલ પાકિસ્તાન</title>,\n",
              " <title>આઇફોન આઈપેડ લોન્ચ ડિઝાઇન લોકપ્રિયતા</title>,\n",
              " <title>સેતાનિક વર્સેસ વિવાદ</title>]"
            ]
          },
          "metadata": {},
          "execution_count": 24
        }
      ]
    },
    {
      "cell_type": "code",
      "source": [
        "descs"
      ],
      "metadata": {
        "colab": {
          "base_uri": "https://localhost:8080/"
        },
        "id": "foAyhw1rtoin",
        "outputId": "003b7e05-9da2-42c3-bc50-ea019496a193"
      },
      "execution_count": 25,
      "outputs": [
        {
          "output_type": "execute_result",
          "data": {
            "text/plain": [
              "[<desc>આંધ્ર પ્રદેશ ના મુખ્ય મંત્રી વાય.એસ.આર. રેડ્ડી ની મૌત</desc>,\n",
              " <desc>સંગીતકારો ને ભારત રત્ન એનાયત થવા વિશે માહિતી</desc>,\n",
              " <desc>મહાત્મા ગાંધી રાષ્ટ્રીય ગ્રામીણ રોજગાર બાંહેધરી કાયદા હેઠળ મુખ્ય યોજનાઓ</desc>,\n",
              " <desc>જકાર્તા માં ઑસ્ટ્રેલિયન એલચી કચેરી સામે બોમ્બમારો</desc>,\n",
              " <desc>ચલણ તરીકે યુરો નો વિવિધ યુરોપીયન દેશો દ્વારા સ્વીકાર</desc>,\n",
              " <desc>પ્રથમ ક્રિકેટર જેણે 700 ટેસ્ટ વિકેટ લીધી</desc>,\n",
              " <desc>મગર ના શિકારી સ્ટીવ ઇરવીન ની મૃત્યુ</desc>,\n",
              " <desc>2008 માં ગુવાહાટી માં શ્રેણીબદ્ધ બોમ્બ વિસ્ફોટમાં મિલકતને નુકસાન</desc>,\n",
              " <desc>જોધપુર માં માતા ચામુંડા દેવી ના મંદિર ખાતે નાસભાગ માં જાનહાનિ</desc>,\n",
              " <desc>આદર્શ હાઉસિંગ સોસાયટી કૌભાંડના લીધે મુખ્ય પ્રધાને રાજીનામું આપ્યું</desc>,\n",
              " <desc>ઑસ્ટ્રેલિયામાં ભારતીય વિદ્યાર્થીઓ પર હુમલા</desc>,\n",
              " <desc>દિલ્હીમાં મેટ્રો રેલ સેવાઓ ની શરૂઆત</desc>,\n",
              " <desc>ભારતીય નાગરિકો ઉપર પાકિસ્તાન માટે જાસૂસી કામ કરવાનો આરોપ</desc>,\n",
              " <desc>શિક્ષણ મેળવવાનો અધિકાર અધિનિયમ નો ભારતમાં પસાર</desc>,\n",
              " <desc>જસવંત સિંઘ તેમના પુસ્તક ઉપર વિવાદ માટે ભાજપમાંથી બરતરફ</desc>,\n",
              " <desc>ગોરખાલેન્ડ માટે જી.જૅ.એમ. ના પ્રમુખ બિમલ ગુરુંગ દ્વારા માંગ</desc>,\n",
              " <desc>પાકિસ્તાનમાં શ્રીલંકાની રાષ્ટ્રીય ક્રિકેટ ટીમ પર હુમલો</desc>,\n",
              " <desc>ભારતીય લોકસભામાં પ્રથમ મહિલા સ્પીકરની નિમણૂક વિશે માહિતી</desc>,\n",
              " <desc>વી.એસ. નૈપુલ ૨૦૦૧ માં સાહિત્ય માટે નોબેલ પારિતોષિક વિજેતા</desc>,\n",
              " <desc>કઈ ભારતીય ટીમ 2003 માં જકાર્તા માં અસિયાન કપ જીતી?</desc>,\n",
              " <desc>૨૦૦૧ ની ભારતની વસ્તી ગણતરી</desc>,\n",
              " <desc>૨૦૦૧ નાં ભુજ ભૂકંપ અને તેને કારણે થયેલું નુકસાન</desc>,\n",
              " <desc>ભારતીય ક્રિકેટ ટીમના કપ્તાન તરીકે મહેન્દ્ર સિંઘ ધોની ની નિમણૂક</desc>,\n",
              " <desc>મુસ્લિમો દ્વારા પયગંબર મુહમ્મદ ઉપર એક કાર્ટુન સંબંધિત આંદોલન / વિરોધ</desc>,\n",
              " <desc>ઈંગ્લેન્ડ માં થયેલા નેટવેસ્ટ સિરીઝ (૨૦૦૨) માં ભારતનો વિજય</desc>,\n",
              " <desc>ઇરાકમાં ૨૦૦૫ માં થયેલ પ્રથમ સામાન્ય ચૂંટણી</desc>,\n",
              " <desc>ખયાત્નામ વ્યક્તિઓ પર જૂતા ના ઘા સંડોવતી ઘટનાઓ</desc>,\n",
              " <desc>ભારતનું પ્રથમ માનવરહિત ચંદ્ર અભિયાન ચંદ્રયાણ-૧ નું બાંધકામ અને સફળ પ્રક્ષેપણ</desc>,\n",
              " <desc>૨૦૦૧ માં ભારતીય સંસદ પર આતંકવાદી હુમલો</desc>,\n",
              " <desc>ભારતમાં યુનિસેફનું પોલિયો નાબૂદી અભિયાન</desc>,\n",
              " <desc>અજમલ કસાબ, જે મુંબઇ આતંકવાદી હુમલા કેસમાં આરોપી છે, વિરુદ્ધ આરોપો</desc>,\n",
              " <desc>ટેનિસ સ્ટાર સાનિયા મિર્ઝા ના લગ્ન</desc>,\n",
              " <desc>મહેન્દ્ર સિંઘ ધોની પદ્મશ્રી થી પુરસ્કૃત</desc>,\n",
              " <desc>પરમાણુ સોદા પર તફાવતો ના કારણે ડાબેરી મોરચાએ યુપીએ સરકાર માંથી ટેકો પાછો ખેંચ્યો</desc>,\n",
              " <desc>પશ્ચિમ બંગાળમાં મિગ વિમાન તૂટી પડ્યું</desc>,\n",
              " <desc>યુ.એન.ઓ. દ્વારા વિશ્વ અહિંસા દિવસ ની ઘોષણા</desc>,\n",
              " <desc>ફિલ્મ સેન્સર બોર્ડ ના અધ્યક્ષ તરીકે સેવા આપતા મહિલાઓ</desc>,\n",
              " <desc><૨૦૧૦>એક્સ્પો પ્રગતિ મેદાન, દિલ્હી માં આયોજીત</૨૦૧૦>\n",
              " <narr>સંબંધિત દસ્તાવેજો ૨૦૧૦ ઓટો એક્સ્પો જે પ્રગતિ મેદાન, દિલ્હી માં આયોજીત કરવામાં આવ્યું, તેના સંબંધિત જાણકારી સમાવતા હોવા જોઈએ.</narr>\n",
              " </desc>,\n",
              " <desc>ઘટના જ્યાં હરભજન સિંઘએ આઇપીએલ મેચ દરમિયાન શ્રીસંથને થપ્પડ મારી , અને તેના માટે તેને મળેલી સજા</desc>,\n",
              " <desc>ભારતમાં ઊભરતો એનિમેશન ઉદ્યોગ અને ભારતીય સ્ટુડિયો દ્વારા બનાવામાં આવેલ એનિમેટેડ ફિલ્મો</desc>,\n",
              " <desc>ગ્રામીણ બેન્ક અમલીકરણો અને મુહમ્મદ યુનુસ અને બાંગ્લાદેશી સરકાર વચ્ચે સંબંધિત વિવાદો</desc>,\n",
              " <desc>ભારતમાં આ ફિલ્મ \"ધ દા વિન્સી કોડ\" નું પ્રકાશન અને ધાર્મિક પક્ષો દ્વારા પરિણામી વિરોધ</desc>,\n",
              " <desc>સર્વાઇકલ કેન્સર વિશે જાગૃતિ, સારવાર અને સંશોધન; નવા સર્વાઇકલ કેન્સર ની રસી નો ઉપયોગ.</desc>,\n",
              " <desc>ભારતમાં પ્રથમ એફ ૧ સર્કિટ</desc>,\n",
              " <desc>ઑસ્ટ્રેલિયન કપ્તાન સ્ટીવ વૌઘ ની આંતરરાષ્ટ્રીય ક્રિકેટ માંથી નિવૃત્તિ</desc>,\n",
              " <desc>બિલ અને મેલિન્ડા ગેટ્સ ફાઉન્ડેશન દ્વારા ભારતમાં ગરીબી, એડ્સ મેલેરીયા, અને પોલિયો લડવા માટે યોજનાઓ/ પહેલ</desc>,\n",
              " <desc>૨૦૦૪ યુરો કપમાં ગ્રીસનું પ્રદર્શન અને અંતમા વિજય</desc>,\n",
              " <desc>ક્રિકેટર ઈમરાન ખાન દ્વારા પાકિસ્તાન માં સ્થાપિત શૌકત ખાનુમ મેમોરિયલ કેન્સર અસ્પતાલ અને સંશોધન કેન્દ્ર</desc>,\n",
              " <desc>એપલના નવા ઉત્પાદનો, આઇફોન અને આઈપેડ - લોન્ચ, ડિઝાઇન, લોકપ્રિયતા</desc>,\n",
              " <desc>આ નવલકથા માં ઇસ્લામ પર તેમના અભિપ્રાયો વ્યક્ત કરવા માટે સલમાન રશ્દી પર અદા ફતવો જાહેર થવો, જનતાની ધાંધલ, રશ્દી ની પ્રતિક્રિયા અને બુક પર પ્રતિબંધ મૂકાવો તે સહિતના ‘ધ સેતાનિક વર્સેસ’, આસપાસના વિવાદ</desc>]"
            ]
          },
          "metadata": {},
          "execution_count": 25
        }
      ]
    },
    {
      "cell_type": "code",
      "source": [
        "narrs"
      ],
      "metadata": {
        "colab": {
          "base_uri": "https://localhost:8080/"
        },
        "id": "kWvKyjFGto1Q",
        "outputId": "c129c83e-2b75-4ec6-f65e-f6420ccee1fd"
      },
      "execution_count": 26,
      "outputs": [
        {
          "output_type": "execute_result",
          "data": {
            "text/plain": [
              "[<narr>સંબંધિત દસ્તાવેજો એક હેલિકોપ્ટર અકસ્માત માં આંધ્ર પ્રદેશ મુખ્ય પ્રધાન વાય.એસ.આર. રેડ્ડી ની મૃત્યુ વિશે જાણકારી સમાવતા હોવા જોઈએ.</narr>,\n",
              " <narr>સંબંધિત દસ્તાવેજો માં પ્રખ્યાત સંગીતકારો પર (બંને ગાયકો અને વાધ્યવાદક જેમ કે રવિ શંકર, એમ.એસ. સુબ્બલક્ષ્મી અને લતા મંગેશકર જેવા) ભારત રત્ન એનાયત થવા સંબંધિત જાણકારી સમાવતા હોવા જોઈએ. આ સંગીતકારો વિશે લેખ (દા.ત. સંક્ષિપ્ત જીવનચરિત્ર, કોન્સર્ટના પ્રતિભાવો) ત્યાં સુધી માન્ય નથી જ્યાં સુધી તેમાં સંગીતકારને ભારત રત્ન એનાયત થયા નો (અથવા થશે તેનો) ખાસ ઉલ્લેખ ન થયો હોઈ.</narr>,\n",
              " <narr>સંબંધિત દસ્તાવેજો એમ.જી.એન.આર.ઈ.જી.એ. ના અમલીકરણ અને તેની મુખ્ય યોજના, ૧૦૦ દિવસના રોજગારની બાંહેધરી સંબંધિત જાણકારી સમાવતા હોવા જોઈએ.એક દસ્તાવેજ સંબંધિત નથી, જો તે યોજનાઓના વાસ્તવિક અમલની વિગતો આપ્યા વગર માત્ર એમ.જી.એન.આર.ઈ.જી.એ સંબંધિત ભ્રષ્ટાચાર પર ચર્ચા કરે છે.</narr>,\n",
              " <narr>સંબંધિત દસ્તાવેજો જકાર્તા માં ઑસ્ટ્રેલિયન એલચી કચેરી સામે થયેલ બૉમ્બમારા સંબંધિત જાણકારી સમાવતા હોવા જોઈએ. આ બોમ્બમારા ની અનુગામી તપાસ અંગે માહિતી સંબંધિત નથી.</narr>,\n",
              " <narr>સંબંધિત દસ્તાવેજો આખા યુરોપનાં દેશોએ તેમના ચલણ તરીકે યુરો અપનાવવાના વિશે જાણકારી સમાવતા હોવા જોઈએ. યુરોપ બહારના દેશો અને વસાહતો વિશે માહિતી સંબંધિત નથી.</narr>,\n",
              " <narr>સંબંધિત દસ્તાવેજો શેન વોર્ન દ્વારા બનાવામાં આવેલ રેકોર્ડ, કે જ્યારે તે 700 ટેસ્ટ વિકેટ લેનાર પહેલા બોલર બન્યા, વિશે જાણકારી સમાવતા હોવા જોઇયે.</narr>,\n",
              " <narr>સંબંધિત દસ્તાવેજો મગર ના શિકારી સ્ટીવ ઇરવીન ની કરૂણ મૃત્યુ વિશે વિગતો સમાવતા હોવા જોઈએ.</narr>,\n",
              " <narr>સંબંધિત દસ્તાવેજો શ્રેણીબદ્ધ બોમ્બ ધડાકા, જે ગુવાહાટીમાં 30 ઓક્ટોબર, 2008 ના રોજ થયા હતા, માંથી પરિણમેલી ઇજા સંબંધિત માહિતી, જીવન નુકસાન, અને મિલકતને નુકસાન સમાવતા હોવા જોઈએ. આ દિવસે આસામમાં અન્યત્ર થયેલા આવા વિસ્ફોટ વિશે માહિતી સંબંધિત નથી.</narr>,\n",
              " <narr>સંબંધિત દસ્તાવેજો માં જોધપુર ચામુંડા દેવી મંદિર નાસભાગ માં જાનહાનિ વિશે જાણકારી સમાવતા હોવા જોઈએ.</narr>,\n",
              " <narr>સંબંધિત દસ્તાવેજો આદર્શ હાઉસિંગ સોસાયટી કૌભાંડમાં તેમની સંડોવણી ના કારણે મહારાષ્ટ્ર મુખ્યમંત્રી અશોક ચૌહાણ ના રાજીનામા સંબંધિત જાણકારી સમાવતા હોવા જોઈએ. સમાચાર લેખો જેમનો આ કૌભાંડના અન્ય પાસાંઓ (અન્ય ગિરફતારી / રાજીનામા સહિત) સાથે વ્યવહાર છે, સંબંધિત નથી.</narr>,\n",
              " <narr>સંબંધિત દસ્તાવેજો ભારતીય વિદ્યાર્થીઓ પર ઑસ્ટ્રેલિયામાં થયેલા હુમલા સંબંધિત જાણકારી સમાવતા હોવા જોઈએ. દસ્તાવેજો કે જે ચોક્કસ કિસ્સાઓના ઉલ્લેખ કર્યા વિના સામાન્ય રીતે આ હુમલા અંગે ચર્ચા કરે છે તે પણ માન્ય છે.</narr>,\n",
              " <narr>સંબંધિત દસ્તાવેજો અટલ બિહારી વાજપાયી દ્વારા દિલ્હી મેટ્રો સેવાઓ નાં ઉદ્ઘાટન સંબંધિત જાણકારી સમાવતા હોવા જોઈએ. પાયા અર્પણ સમારોહ વિશે માહિતી સંબંધિત નથી.</narr>,\n",
              " <narr>ભારતીય રાજનીતિજ્ઞ, માધુરી ગુપ્તા પર પાકિસ્તાન માટે જાસૂસી કામ કરવાનો આરોપ હતો.સંબંધિત દસ્તાવેજો તેવા વ્યક્તિઓ કે જે ભારતીય નાગરિકો છે અને જેના પર પાકિસ્તાન માટે જાસૂસી કામ કરવાનો આરોપ છે, અથવા તેના માટે ધરપકડ/સજા થયેલ છે વિશે જાણકારી સમાવતા હોવા જોઈએ.</narr>,\n",
              " <narr>સંબંધિત દસ્તાવેજો માં શિક્ષણ અધિકાર નો લોકસભા અને રાજ્યસભામાં પસાર તેમજ વિદ્યાર્થી સમુદાય ને આથી થનાર લાભો વિશે જાણકારી સમાવતા હોવા જોઈએ.</narr>,\n",
              " <narr>સંબંધિત દસ્તાવેજો ભાજપમાંથી જસવંત સિંઘની, તેમના મુહમ્મદ અલી જિન્નાહ પર વિવાદાસ્પદ પુસ્તક ના કારણે, બરતરફી સંબંધિત જાણકારી સમાવતા હોવા જોઈએ.</narr>,\n",
              " <narr>સંબંધિત દસ્તાવેજો ગોરખાલેન્ડ માટે બિમલ ગુરુંગ દ્વારા વિવિધ સ્થળોએ,પ્રસંગોએ, ઘણી રીતે માંગ ઉઠાવવામાં આવેલ છે તેના વિશે જાણકરી આપવા જોઇએ.</narr>,\n",
              " <narr>સંબંધિત દસ્તાવેજો પાકિસ્તાનમાં શ્રીલંકાની ક્રિકેટ ટીમ પર થયેલ આતંકવાદી હુમલા સંબંધિત જાણકારી સમાવતા હોવા જોઈએ. દસ્તાવેજો કે જે વાસ્તવિક હુમલા વિશે વિગતો પૂરી કર્યા વિના આ હુમલા અને એના પ્રત્યાઘાત અને પ્રતિક્રિયાઓ પર ચર્ચા કરે છે તે સંબંધિત નથી.</narr>,\n",
              " <narr>સંબંધિત દસ્તાવેજો લોકસભા ની પ્રથમ મહિલા સ્પીકર તરીકે મીરા કુમારની નિમણૂક વિશે જાણકારી સમાવતા હોવા જોઈએ. તેમની શપથગ્રહણ વિધિના વર્ણન કરતા લેખ પણ સંબંધિત ગણાશે.</narr>,\n",
              " <narr>સંબંધિત દસ્તાવેજો વિ.એસ. નૈપુલ. ના વર્ષ ૨૦૦૧ માં સાહિત્ય માટે નોબેલ પ્રાઈઝ વિજેતા થવા સંબંધિત જાણકારી સમાવતા હોવા જોઈએ. નૈપુલ વિશે લેખ જેમાં ઇનામનું વર્ણન નથી તે સંબંધિત નથી.</narr>,\n",
              " <narr>સંબંધિત દસ્તાવેજો ૨૦૦૩ માં જકાર્તા માં થયેલ અસિયાન કપ ટુર્નામેન્ટ ખાતે ઈસ્ટ બંગાળ ક્લબ ની ઐતિહાસિક જીત સંબંધિત જાણકારી સમાવતા હોવા જોઈએ.</narr>,\n",
              " <narr>સંબંધિત દસ્તાવેજો ૨૦૦૧ માં ભારત ની વસતી ગણતરી સંબંધિત જાણકારી સમાવતા હોવા જોઈએ. તેની શરૂઆત, પ્રગતિ, અને તારણો (સેક્સ રેશિયો અને ધર્મ સંબંધિત અને તે સહિત) વિશે માહિતી સંબંધિત છે.</narr>,\n",
              " <narr>સંબંધિત દસ્તાવેજો ભુજ, ગુજરાત માં ભૂકંપ સંબંધિત માહિતી અને તેને કારણે થયેલ નુકસાન સંબંધિત જાણકારી સમાવતા હોવા જોઈએ.</narr>,\n",
              " <narr>સંબંધિત દસ્તાવેજો ભારતીય ક્રિકેટ ટીમના કપ્તાન તરીકે મહેન્દ્ર સિંઘ ધોની ની પસંદગી સંબંધિત જાણકારી સમાવતા હોવા જોઈએ.</narr>,\n",
              " <narr>સંબંધિત દસ્તાવેજો મુસ્લિમો દ્વારા પયગંમ્બર મુહમ્મદને વર્ણવતા કાર્ટુન ના પ્રકાશન સામે વિરોધ સંબંધિત જાણકારી સમાવતા હોવા જોઈએ .</narr>,\n",
              " <narr>સંબંધિત દસ્તાવેજો ૨૦૦૨ માં ભારત ના નેટવેસ્ટ શ્રેણી માં વિજય સંબંધિત જાણકારી સમાવતા હોવા જોઈએ.</narr>,\n",
              " <narr>સંબંધિત દસ્તાવેજો ઇરાકમાં ૨૦૦૫ માં પ્રથમ સામાન્ય ચૂંટણી સંબંધિત જાણકારી, અને તેમના શાંતિપૂર્ણ નિષ્કર્ષ સમાવતા હોવા જોઈએ.</narr>,\n",
              " <narr>તાજેતરના ભૂતકાળમાં, એક ઇરાકી પત્રકારે અમેરિકન રાષ્ટ્રપતિ જ્યોર્જ ડબ્લ્યુ. બુશ પર જૂતો ફેંકી દીધો. એવીજ એક જ ઘટના માં જરનૈલ સિંઘ, એક પત્રકારે, ભારતીય ગૃહ પ્રધાન, પી ચિદમ્બરમ પર જૂતો ફેકી માર્યો. સંબંધિત દસ્તાવેજો પ્રખયાત વ્યક્તિ પર જૂતા ફેંકવામા આવેલ ઘટના વિશે જાણકારી સમાવતા હોવા જોઈએ. હુમલાખોરો સામે લેવામા આવેલ કાનૂની પગલાં વિશે માહિતી સંબંધિત નથી.</narr>,\n",
              " <narr>સંબંધિત દસ્તાવેજો, ભારતના પ્રથમ માનવરહિત ચંદ્ર અભિયાન, ચંદ્રયાણ-1 ના બાંધકામ અને સફળ પ્રક્ષેપણ સંબંધિત જાણકારી સમાવતા હોવા જોઈએ.</narr>,\n",
              " <narr>સંબંધિત દસ્તાવેજો ભારતીય સંસદ પર હુમલો અને તેના થી જોડાયેલ આતંકવાદી (ઓ) જૂથ સંબંધિત જાણકારી સમાવતા હોવા જોઈએ. દસ્તાવેજો કે જે વાસ્તવિક હુમલા વિશે વિગતો પૂરી કર્યા વગર લોકોની આ હુમલા માટેની પ્રતિક્રિયા જાહેર કરે તે સંબંધિત નથી.</narr>,\n",
              " <narr>સંબંધિત દસ્તાવેજો યુનિસેફના ભારતમાં પોલિયો નાબૂદી અભિયાન સંબંધિત જાણકારી સમાવતા હોવા જોઈએ.</narr>,\n",
              " <narr>સંબંધિત દસ્તાવેજો અજમલ કસાબ ઉપરના આક્ષેપો સંબંધિત જાણકારી સમાવતા હોવા જોઈએ જે કે મુંબઇ આતંકવાદી હુમલા માં મુખ્ય આરોપી છે .</narr>,\n",
              " <narr>સંબંધિત દસ્તાવેજો ટેનિસ સ્ટાર સાનિયા મિર્ઝા ના પાકિસ્તાની ક્રિકેટર શોએબ મલિક સાથે લગ્ન સંબંધિત જાણકારી સમાવતા હોવા જોઈએ.</narr>,\n",
              " <narr>સંબંધિત દસ્તાવેજો મહેન્દ્ર સિંઘ ધોનીને પદ્મશ્રી મળવા વિશે જાણકારી સમાવતા હોવા જોઈએ.</narr>,\n",
              " <narr>સંબંધિત દસ્તાવેજો યુપીએ-1 માંથી, પરમાણુ સોદા સંબંધિત મુદ્દાઓ ના કારણે, ડાબેરી મોરચા દ્વારા આધાર પાછો ખેંચવા સંબંધિત જાણકારી સમાવતા હોવા જોઈએ.</narr>,\n",
              " <narr>સંબંધિત દસ્તાવેજો ૨૦૦૧ થી ૨૦૧૦ દરમિયાન પશ્ચિમ બંગાળમાં મિગ વિમાનો ના ભંગાણો સંબંધિત જાણકારી સમાવતા હોવા જોઈએ.</narr>,\n",
              " <narr>યુ.એન.ઓ. એ જાહેર કર્યું છે કે ૨ ઓક્ટોબર વિશ્વ અહિંસા દિવસ તરીકે મનાવવામાં આવશે.સંબંધિત દસ્તાવેજો આ જાહેરાત સંબંધિત જાણકારી સમાવતા હોવા જોઈએ.</narr>,\n",
              " <narr>સંબંધિત દસ્તાવેજો ફિલ્મી સેન્સર બોર્ડ ના અધ્યક્ષ તરીકે કોઇ મહિલાની નિમણૂક સંબંધિત જાણકારી સમાવતા હોવા જોઈએ . સ્ત્રી અધ્યક્ષ દ્વારા મહત્વપૂર્ણ પગલાંઓ વિશે માહિતી પણ સંબંધિત.</narr>,\n",
              " <narr>સંબંધિત દસ્તાવેજો ૨૦૧૦ ઓટો એક્સ્પો જે પ્રગતિ મેદાન, દિલ્હી માં આયોજીત કરવામાં આવ્યું, તેના સંબંધિત જાણકારી સમાવતા હોવા જોઈએ.</narr>,\n",
              " <narr>સંબંધિત દસ્તાવેજો માં તે ઘટના સંબંધિત જાણકારી હોવી જોઇએ કે જેમા હરભજન સિંઘએ એક આઇપીએલ મેચ દરમિયાન શ્રીસંથ ને થપ્પડ મારી હતી . જે સજા હરભજન સિંઘને આ અપરાધ વિશે મળી તે જાણકારી પણ સંબંધિત છે.</narr>,\n",
              " <narr>સંબંધિત વિષયો માં: ભારતમાં વધતો એનિમેશન ઉદ્યોગ, ઉદ્યોગ ના અર્થશાસ્ત્ર, નવી એનિમેટેડ ફિલ્મો અને ભારત ના સ્ટુડિયો માં બનવવામા આવી રહેલી ટૂંકી ફિલ્મ, અને તકનીકો અને ટેકનોલોજીનો કરવામાં આવતા ઉપયોગ નો સમાવેશ થાય છે. એનિમેશન કોર્સ, અભ્યાસક્રમ, સંસ્થાઓ અને તાલીમ કેન્દ્રો શિક્ષણ સંબંધિત માહિતી સંબંધિત નથી.</narr>,\n",
              " <narr>સંબંધિત વિષયો માં ગ્રામીણ બેન્ક નો ખ્યાલ, તેનું અમલીકરણ; તેના સ્થાપક મુહમ્મદ યુનુસ કેવી રીતે બાંગ્લાદેશી સરકાર સાથે તકરારમાં સંડોવાયેલા હતા; આજે કેવી રીતે અને ક્યાં ગ્રામીણ બેંકો કામ કરે છે; યુનુસ શું કહે છે અને બાંગ્લાદેશ સરકાર ગુસ્સે શા માટે છે, નો સમાવેશ થાય છે. યુનુસ ની નોબેલ પ્રાઈઝ જિતવા વિશે માહિતી સંબંધિત નથી.</narr>,\n",
              " <narr>સંબંધિત વિષયો માં: ફિલ્મ \"ધ દા વિન્સી કોડ\" જ્યારે તેને ભારતમાં રજૂ કરવામાં આવી હતી ત્યારે તેને સામનો કરવો પડ્યો હોઇ તેવા વિષયો, અડચણો, આ ફિલ્મ ખ્રિસ્તી સમુદાય પર નકારાત્મક પ્રકાશ નાખતી હોવા ના કારણે ધાર્મિક જૂથો દ્વારા પ્રકાશનનો વિરોધ, નો સમાવેશ થાય છે. ફિલ્મની સમીક્ષાઓ, લેખક ડેન બ્રાઉન, અથવા નવલકથા \"ધ દા વિન્સી કોડ\" કે જેના પર ફિલ્મ પર આધારિત છે વિશે જાણકારી સંબંધિત નથી.</narr>,\n",
              " <narr>સંબંધિત દસ્તાવેજો સર્વાઇકલ કેન્સર અને તેની સારવાર માટે સંબંધિત જાણકારી સમાવતા હોવા જોઈએ. સર્વાઇકલ કેન્સર વિશે સંશોધની વર્તમાન સ્થિતિ, અને સર્વાઇકલ કેન્સર રસી જે ઉપયોગ માટે મંજૂર થયેલ છે વિશે તાજેતરના અહેવાલો, પણ સંબંધિત. જોકે, અન્ય કેન્સર વિશે સમાચાર, અથવા સામગ્રી જે કેન્સરના આ ચોક્કસ પ્રકાર થી અસરગ્રસ્ત ખ્યાત્નામ લોકો અને માહાનુભાવો વિશે વાત કરે છે તે સંબંધિત નથી.</narr>,\n",
              " <narr>સંબંધિત દસ્તાવેજો માં ભારતમાં પ્રથમ એફ 1 સર્કિટ ના બાંધકામ કરવા તથા નિર્માણ સંબંધિત જાણકારી સમાવતા હોવા જોઈએ.સંગઠકો, શક્ય સ્થળો, ભારતીય ડ્રાઇવરો નો અભિપ્રાય, અને / ભારતીય સરકારની ભૂમિકા અને અભિપ્રાય વિશે માહિતી સંબંધિત છે.ભારતીય એફ 1 'ડ્રાઈવરો ની કારકિર્દી, રેકોર્ડ, તાજેતરની સિદ્ધિઓ અને ભારતીય ટીમ કે એફ 1 ગ્રાન્ડ પ્રિકસ ઘટનાઓ હરિફાઇ વિશે કોઈ બાબત અંગે દસ્તાવેજો સંબંધિત છે.</narr>,\n",
              " <narr>સંબંધિત દસ્તાવેજો ઑસ્ટ્રેલિયન ક્રિકેટ કપ્તાન સ્ટીવ વૌઘ ની નિવૃત્તિ સંબંધિત જાણકારી સમાવતા હોવા જોઈએ.છેલ્લો ટેસ્ટ મેચ જે વૌઘએ રમ્યો અને જેમાં ઉભા થઇને તેને માન આપવામાં આવ્યું, તેનું વર્ણન કરતા દસ્તાવેજો સંબંધિત છે. તેના ટેસ્ટ બલ્લેબાજ તરીકે ના રેકોર્ડ અને કેપ્ટન તરીકે નો લેખ સંબંધિત માત્ર તો છે જો તે તેની સંપૂર્ણ કારકિર્દી ના આંકડાઓ નો અહેવાલ આપે છે.સ્ટીવ વૌઘ વિશે લેખ જેમાં તેમને ક્રીકેટ વિશ્વ કપ પહેલાં એક દિવસિય ક્રીકેટ માંથી કાઢી મુકાયા હતા અને સંબંધિત દલીલો, અભિપ્રાયો અને ટિપ્પણીઓ સંબંધિત નથી.</narr>,\n",
              " <narr>સંબંધિત દસ્તાવેજો માં બિલ અને ભારતમાં મલિન્ડા ગેટ્સ ફાઉન્ડેશન સૂચિત યોજનાઓ સંબંધિત ગરીબી, એઇડ્ઝ, મેલેરીયા અને પોલિયો લડવા જાણકારી સમાવતા હોવા જોઈએ. વિવિધ પરિયોજનામાં વાયદો કરેલું ભંડોળ, સામેલ એનજીઓ, અને ભારતના તે સ્થળો જે ફાઉન્ડેશન ના લક્ષ્યાંક મા સમાવેલ છે, વિશે માહિતી સંબંધિત છે.આ ફાઉન્ડેશન ની વિશ્વમાં અન્યત્ર પ્રવૃત્તિઓ અને બિલ ગેટ્સ અને મેલિન્ડા ગેટ્સ વિશે કોઈ બાબત અંગે માહિતી સંબંધિત નથી.</narr>,\n",
              " <narr>ગ્રીસએ ૨૦૦૪ માં યુરો કપ ફૂટબોલ પ્રત્યોગીતા જીતી ને બધા ને ચૌન્કાવી દીધા છે. સંબંધિત દસ્તાવેજો માં ગ્રીસ દ્વારા રમાયેલ મેચ, ફાઇનલ માટે તેના સમગ્ર રન અપ નું વર્ણન, હાઇલાઇટ્સ, અથવા ગોલ નોંધાવનાર અને ગ્રીસના ચાવીરૂપ ખેલાડીઓ કે જેઓ એ વિજય હાંસલ કરવામાં મુખ્ય ભુમિકા ભજવી તેનું વર્ણન કરતા હોવા જોઇએ. અન્ય કોઇ ફૂટબોલ પ્રત્યોગીતા અથવા અન્ય કોઇ વર્ષે યુરો કપ માં ગ્રીસ ના પ્રભાવ વિશે માહિતી સંબંધિત નથી.</narr>,\n",
              " <narr>સંબંધિત દસ્તાવેજો ક્રિકેટર ઈમરાન ખાન દ્વારા પાકિસ્તાન માં સ્થાપિત શૌકત ખાનુમ મેમોરિયલ કેન્સર અસ્પતાલ અને સંશોધન કેન્દ્ર સંબંધિત જાણકારી સમાવતા હોવા જોઈએ.અસ્પતાલ ના ઉદ્ઘાટન, લોકોની ભંડોળ માટેની બાંહેદરી, ખ્યાતનામ લોકોની મુલાકાત અને અસ્પતાલ યોજનાઓ, સારવાર અને સંશોધન સવલતો સંબંધિત છે.અસ્પતાલ તકરાર માં સંડોવાયેલી હોવના કારણે વિવાદોમાં રહેવા અને છેવટે બંધ થવા વિશેના સમાચાર પણ સંબંધિત છે. એક રાજકારણી તરીકે અથવા ક્રિકેટર તરીકે ઈમરાન ખાન વિશે બધું અસંબંધિત છે.</narr>,\n",
              " <narr>સંબંધિત દસ્તાવેજો માં આઇફોન અને આઈપેડ, એપલના નવા ઉત્પાદનો જેમણે એક નવી ક્રાંતિ સર્જી છે,ની લોન્ચ, ડિઝાઇન અને લોકપ્રિયતા વિશે સંબંધિત જાણકારી સમાવતા હોવા જોઈએ.સ્ટીવ જોબ્સ દ્વારા અત્યંત લોકપ્રિય ભાષણ અને તેને સમાવતી પ્રસ્તુતિ વિશે લેખ સંબંધિત છે, કારણ કે તે ઉત્પાદનો, તેમની ડિઝાઇન/લક્ષણો વર્ણવતા લેખો છે.એપલ ને સંડોવતા વ્યાપાર સમાચાર, તેની વ્યૂહરચના, આવક અને સ્ટાફ મહત્વના નથી. સ્ટીવ જોબ્સે ટીમોથી કૂકને સીઇઓ ના પદ પર નિમ્ણુક કર્યા ના સમાચાર પણ સંબંધિત નથી.</narr>,\n",
              " <narr>સંબંધિત દસ્તાવેજો માં સલમાન રશ્દી પર ૧૯૮૯ માં પ્રકાશિત નવલકથા \"ધ સેતાનિક વર્સેસ\" માં તેમણે વ્યક્ત કરેલા વિચારો માટે તેમના પર અદા ફતવા સંબંધિત જાણકારી સમાવતા હોવા જોઈએ. એ મુદ્દાઓ શું છે જેના કારણે ઇસ્લામિક રાજ્યો નારાજ છે, આ ફતવા ની શરતો શું છે, રશ્દીની ટિપ્પણીઓ, પુસ્તક ભારત જેવા દેશોમાં પ્રતિબંધિત કરવામાં આવી, આ બધા સંબંધિત મુદ્દાઓ છે.રશ્દીએ જીતેલા પુરસ્કારો, તેમના અન્ય લોકપ્રિય પુસ્તકો, નિબંધો અને લેખો, તેમના અંગત જીવન, અને પદ્મ લક્ષ્મી સાથે લગ્ન, સંબંધિત નથી.</narr>]"
            ]
          },
          "metadata": {},
          "execution_count": 26
        }
      ]
    },
    {
      "cell_type": "code",
      "source": [
        "#Extract the text content from the 'title' element\n",
        "all_titles = []\n",
        "for i in titles:\n",
        "  text = i.get_text()\n",
        "  all_titles.append(text)"
      ],
      "metadata": {
        "id": "YCAwsJ_atuaH"
      },
      "execution_count": 27,
      "outputs": []
    },
    {
      "cell_type": "code",
      "source": [
        "all_titles"
      ],
      "metadata": {
        "colab": {
          "base_uri": "https://localhost:8080/"
        },
        "id": "0u5ixXnBtxZc",
        "outputId": "14154a9f-2157-40b6-b8a3-df80fdf3e55b"
      },
      "execution_count": 28,
      "outputs": [
        {
          "output_type": "execute_result",
          "data": {
            "text/plain": [
              "['વાય.એસ.આર. રેડ્ડી ની મૌત',\n",
              " 'સંગીતકારો ભારત રત્ન',\n",
              " 'એમ.જી.એન.આર.ઈ.જી.એ. યોજના',\n",
              " 'ઑસ્ટ્રેલિયન એલચી કચેરી સામે બોમ્બમારો',\n",
              " 'યુરો અપનાવાતા દેશો',\n",
              " 'પ્રથમ ક્રિકેટર જેણે 700 ટેસ્ટ વિકેટ લીધી',\n",
              " 'સ્ટીવ ઇરવીન ની મૃત્યુ',\n",
              " 'ગુવાહાટી 2008 બોમ્બમારામાં નુકસાન',\n",
              " 'ચામુંડા મંદિર માં નાસભાગ',\n",
              " 'આદર્શ હાઉસિંગ સોસાયટી કૌભાંડમાં રાજીનામું',\n",
              " 'ઑસ્ટ્રેલિયામાં ભારતીય વિદ્યાર્થીઓ પર હુમલા',\n",
              " 'દિલ્હી મેટ્રો સેવાઓ ની શરૂઆત',\n",
              " 'ભારતીય નાગરિક પાકિસ્તાની જાસૂસ',\n",
              " 'શિક્ષણ મેળવવાનો અધિકાર અધિનિયમ',\n",
              " 'જસવંત સિંઘની ભાજપમાંથી બરતરફી',\n",
              " 'ગોરખાલેન્ડની માંગ',\n",
              " 'શ્રીલંકાની રાષ્ટ્રીય ક્રિકેટ ટીમ પર હુમલો',\n",
              " 'ભારતની પ્રથમ મહિલા સ્પીકર',\n",
              " '૨૦૦૧ માં સાહિત્ય માટે નોબેલ પારિતોષિક વિજેતા',\n",
              " '૨૦૦૩ અસિયાન કપ વિજેતા',\n",
              " '૨૦૦૧ ની ભારતની વસ્તી ગણતરી',\n",
              " 'ભુજ માં ભૂકંપ',\n",
              " 'ધોની કપ્તાન ભારતીય ટીમ',\n",
              " 'પયગંબર મુહમ્મદ કાર્ટુન આંદોલન',\n",
              " 'નેટવેસ્ટ ૨૦૦૨ સીરિઝ પરિણામો',\n",
              " 'પ્રથમ ઇરાકી ચૂંટણી',\n",
              " 'ખ્યાત્નામ વ્યક્તિઓ પર જૂતા ફેંકી ને હુમલો',\n",
              " 'ભારતનું પ્રથમ માનવરહિત ચંદ્ર અભિયાન',\n",
              " 'ભારતીય સંસદ પર આતંકવાદી હુમલો',\n",
              " 'પોલિયો નાબૂદી મિશન',\n",
              " 'આરોપી અજમલ કસાબ',\n",
              " 'સાનિયા મિર્ઝા ના લગ્ન',\n",
              " 'મહેન્દ્ર સિંઘ ધોની ને રાષ્ટ્રીય પુરસ્કાર',\n",
              " 'યુપીએ માંથી ડાબેરી મોરચાએ આધાર પાછો ખેંચ્યો',\n",
              " 'મિગ ભંગાણ પશ્ચિમ બંગાળ',\n",
              " 'વિશ્વ અહિંસા દિવસ',\n",
              " 'ફિલ્મ સેન્સર બોર્ડ મહિલા અધ્યક્ષ',\n",
              " '૨૦૧૦ ઓટો એક્સ્પો દિલ્હી',\n",
              " 'હરભજન સિંઘએ શ્રીસંત ને થપ્પડ મારી',\n",
              " 'ભારતીય એનિમેશન ઉદ્યોગ ફિલ્મો',\n",
              " 'ગ્રામીણ બેન્ક મુહમ્મદ યુનુસ વિવાદ',\n",
              " 'દા વિન્સી કોડ ભારત પ્રકાશન વિવાદ',\n",
              " 'સર્વાઇકલ કેન્સર વિશે જાગૃતિ અને સારવાર માટેની રસી',\n",
              " 'ભારતમાં પ્રથમ એફ ૧ સર્કિટ',\n",
              " 'સ્ટીવ વૌઘ આંતરરાષ્ટ્રીય ક્રિકેટ નિવૃત્તિ',\n",
              " 'બિલ અને મેલિન્ડા ગેટ્સ ફાઉન્ડેશન ની ભારતમાં પરોપકારી પ્રવૃત્તિઓ',\n",
              " 'ગ્રીસ યુરો કપ ૨૦૦૪ વિજય',\n",
              " 'ઈમરાન ખાન કેન્સર અસ્પતાલ પાકિસ્તાન',\n",
              " 'આઇફોન આઈપેડ લોન્ચ ડિઝાઇન લોકપ્રિયતા',\n",
              " 'સેતાનિક વર્સેસ વિવાદ']"
            ]
          },
          "metadata": {},
          "execution_count": 28
        }
      ]
    },
    {
      "cell_type": "code",
      "source": [
        "#Extract the text content from the 'descs' element\n",
        "all_descs = []\n",
        "for i in descs:\n",
        "  text = i.get_text()\n",
        "  all_descs.append(text.strip())"
      ],
      "metadata": {
        "id": "jVBXOQGDtzP8"
      },
      "execution_count": 29,
      "outputs": []
    },
    {
      "cell_type": "code",
      "source": [
        "all_descs"
      ],
      "metadata": {
        "colab": {
          "base_uri": "https://localhost:8080/"
        },
        "id": "sA3gYBfft4Yg",
        "outputId": "be072547-dd2a-4123-b19f-208c2f40b6ea"
      },
      "execution_count": 30,
      "outputs": [
        {
          "output_type": "execute_result",
          "data": {
            "text/plain": [
              "['આંધ્ર પ્રદેશ ના મુખ્ય મંત્રી વાય.એસ.આર. રેડ્ડી ની મૌત',\n",
              " 'સંગીતકારો ને ભારત રત્ન એનાયત થવા વિશે માહિતી',\n",
              " 'મહાત્મા ગાંધી રાષ્ટ્રીય ગ્રામીણ રોજગાર બાંહેધરી કાયદા હેઠળ મુખ્ય યોજનાઓ',\n",
              " 'જકાર્તા માં ઑસ્ટ્રેલિયન એલચી કચેરી સામે બોમ્બમારો',\n",
              " 'ચલણ તરીકે યુરો નો વિવિધ યુરોપીયન દેશો દ્વારા સ્વીકાર',\n",
              " 'પ્રથમ ક્રિકેટર જેણે 700 ટેસ્ટ વિકેટ લીધી',\n",
              " 'મગર ના શિકારી સ્ટીવ ઇરવીન ની મૃત્યુ',\n",
              " '2008 માં ગુવાહાટી માં શ્રેણીબદ્ધ બોમ્બ વિસ્ફોટમાં મિલકતને નુકસાન',\n",
              " 'જોધપુર માં માતા ચામુંડા દેવી ના મંદિર ખાતે નાસભાગ માં જાનહાનિ',\n",
              " 'આદર્શ હાઉસિંગ સોસાયટી કૌભાંડના લીધે મુખ્ય પ્રધાને રાજીનામું આપ્યું',\n",
              " 'ઑસ્ટ્રેલિયામાં ભારતીય વિદ્યાર્થીઓ પર હુમલા',\n",
              " 'દિલ્હીમાં મેટ્રો રેલ સેવાઓ ની શરૂઆત',\n",
              " 'ભારતીય નાગરિકો ઉપર પાકિસ્તાન માટે જાસૂસી કામ કરવાનો આરોપ',\n",
              " 'શિક્ષણ મેળવવાનો અધિકાર અધિનિયમ નો ભારતમાં પસાર',\n",
              " 'જસવંત સિંઘ તેમના પુસ્તક ઉપર વિવાદ માટે ભાજપમાંથી બરતરફ',\n",
              " 'ગોરખાલેન્ડ માટે જી.જૅ.એમ. ના પ્રમુખ બિમલ ગુરુંગ દ્વારા માંગ',\n",
              " 'પાકિસ્તાનમાં શ્રીલંકાની રાષ્ટ્રીય ક્રિકેટ ટીમ પર હુમલો',\n",
              " 'ભારતીય લોકસભામાં પ્રથમ મહિલા સ્પીકરની નિમણૂક વિશે માહિતી',\n",
              " 'વી.એસ. નૈપુલ ૨૦૦૧ માં સાહિત્ય માટે નોબેલ પારિતોષિક વિજેતા',\n",
              " 'કઈ ભારતીય ટીમ 2003 માં જકાર્તા માં અસિયાન કપ જીતી?',\n",
              " '૨૦૦૧ ની ભારતની વસ્તી ગણતરી',\n",
              " '૨૦૦૧ નાં ભુજ ભૂકંપ અને તેને કારણે થયેલું નુકસાન',\n",
              " 'ભારતીય ક્રિકેટ ટીમના કપ્તાન તરીકે મહેન્દ્ર સિંઘ ધોની ની નિમણૂક',\n",
              " 'મુસ્લિમો દ્વારા પયગંબર મુહમ્મદ ઉપર એક કાર્ટુન સંબંધિત આંદોલન / વિરોધ',\n",
              " 'ઈંગ્લેન્ડ માં થયેલા નેટવેસ્ટ સિરીઝ (૨૦૦૨) માં ભારતનો વિજય',\n",
              " 'ઇરાકમાં ૨૦૦૫ માં થયેલ પ્રથમ સામાન્ય ચૂંટણી',\n",
              " 'ખયાત્નામ વ્યક્તિઓ પર જૂતા ના ઘા સંડોવતી ઘટનાઓ',\n",
              " 'ભારતનું પ્રથમ માનવરહિત ચંદ્ર અભિયાન ચંદ્રયાણ-૧ નું બાંધકામ અને સફળ પ્રક્ષેપણ',\n",
              " '૨૦૦૧ માં ભારતીય સંસદ પર આતંકવાદી હુમલો',\n",
              " 'ભારતમાં યુનિસેફનું પોલિયો નાબૂદી અભિયાન',\n",
              " 'અજમલ કસાબ, જે મુંબઇ આતંકવાદી હુમલા કેસમાં આરોપી છે, વિરુદ્ધ આરોપો',\n",
              " 'ટેનિસ સ્ટાર સાનિયા મિર્ઝા ના લગ્ન',\n",
              " 'મહેન્દ્ર સિંઘ ધોની પદ્મશ્રી થી પુરસ્કૃત',\n",
              " 'પરમાણુ સોદા પર તફાવતો ના કારણે ડાબેરી મોરચાએ યુપીએ સરકાર માંથી ટેકો પાછો ખેંચ્યો',\n",
              " 'પશ્ચિમ બંગાળમાં મિગ વિમાન તૂટી પડ્યું',\n",
              " 'યુ.એન.ઓ. દ્વારા વિશ્વ અહિંસા દિવસ ની ઘોષણા',\n",
              " 'ફિલ્મ સેન્સર બોર્ડ ના અધ્યક્ષ તરીકે સેવા આપતા મહિલાઓ',\n",
              " 'એક્સ્પો પ્રગતિ મેદાન, દિલ્હી માં આયોજીત\\nસંબંધિત દસ્તાવેજો ૨૦૧૦ ઓટો એક્સ્પો જે પ્રગતિ મેદાન, દિલ્હી માં આયોજીત કરવામાં આવ્યું, તેના સંબંધિત જાણકારી સમાવતા હોવા જોઈએ.',\n",
              " 'ઘટના જ્યાં હરભજન સિંઘએ આઇપીએલ મેચ દરમિયાન શ્રીસંથને થપ્પડ મારી , અને તેના માટે તેને મળેલી સજા',\n",
              " 'ભારતમાં ઊભરતો એનિમેશન ઉદ્યોગ અને ભારતીય સ્ટુડિયો દ્વારા બનાવામાં આવેલ એનિમેટેડ ફિલ્મો',\n",
              " 'ગ્રામીણ બેન્ક અમલીકરણો અને મુહમ્મદ યુનુસ અને બાંગ્લાદેશી સરકાર વચ્ચે સંબંધિત વિવાદો',\n",
              " 'ભારતમાં આ ફિલ્મ \"ધ દા વિન્સી કોડ\" નું પ્રકાશન અને ધાર્મિક પક્ષો દ્વારા પરિણામી વિરોધ',\n",
              " 'સર્વાઇકલ કેન્સર વિશે જાગૃતિ, સારવાર અને સંશોધન; નવા સર્વાઇકલ કેન્સર ની રસી નો ઉપયોગ.',\n",
              " 'ભારતમાં પ્રથમ એફ ૧ સર્કિટ',\n",
              " 'ઑસ્ટ્રેલિયન કપ્તાન સ્ટીવ વૌઘ ની આંતરરાષ્ટ્રીય ક્રિકેટ માંથી નિવૃત્તિ',\n",
              " 'બિલ અને મેલિન્ડા ગેટ્સ ફાઉન્ડેશન દ્વારા ભારતમાં ગરીબી, એડ્સ મેલેરીયા, અને પોલિયો લડવા માટે યોજનાઓ/ પહેલ',\n",
              " '૨૦૦૪ યુરો કપમાં ગ્રીસનું પ્રદર્શન અને અંતમા વિજય',\n",
              " 'ક્રિકેટર ઈમરાન ખાન દ્વારા પાકિસ્તાન માં સ્થાપિત શૌકત ખાનુમ મેમોરિયલ કેન્સર અસ્પતાલ અને સંશોધન કેન્દ્ર',\n",
              " 'એપલના નવા ઉત્પાદનો, આઇફોન અને આઈપેડ - લોન્ચ, ડિઝાઇન, લોકપ્રિયતા',\n",
              " 'આ નવલકથા માં ઇસ્લામ પર તેમના અભિપ્રાયો વ્યક્ત કરવા માટે સલમાન રશ્દી પર અદા ફતવો જાહેર થવો, જનતાની ધાંધલ, રશ્દી ની પ્રતિક્રિયા અને બુક પર પ્રતિબંધ મૂકાવો તે સહિતના ‘ધ સેતાનિક વર્સેસ’, આસપાસના વિવાદ']"
            ]
          },
          "metadata": {},
          "execution_count": 30
        }
      ]
    },
    {
      "cell_type": "code",
      "source": [
        "#Extract the text content from the 'nums' element\n",
        "all_nums = []\n",
        "for i in querynums:\n",
        "  all_nums.append(i.get_text())"
      ],
      "metadata": {
        "id": "wt-9oBNKt7bq"
      },
      "execution_count": 32,
      "outputs": []
    },
    {
      "cell_type": "code",
      "source": [
        "all_nums"
      ],
      "metadata": {
        "colab": {
          "base_uri": "https://localhost:8080/"
        },
        "id": "phruZfNZt-Tr",
        "outputId": "fada0cbc-c930-4c35-b2d2-9216815b429b"
      },
      "execution_count": 33,
      "outputs": [
        {
          "output_type": "execute_result",
          "data": {
            "text/plain": [
              "['176',\n",
              " '177',\n",
              " '178',\n",
              " '179',\n",
              " '180',\n",
              " '181',\n",
              " '182',\n",
              " '183',\n",
              " '184',\n",
              " '185',\n",
              " '186',\n",
              " '187',\n",
              " '188',\n",
              " '189',\n",
              " '190',\n",
              " '191',\n",
              " '192',\n",
              " '193',\n",
              " '194',\n",
              " '195',\n",
              " '196',\n",
              " '197',\n",
              " '198',\n",
              " '199',\n",
              " '200',\n",
              " '201',\n",
              " '202',\n",
              " '203',\n",
              " '204',\n",
              " '205',\n",
              " '206',\n",
              " '207',\n",
              " '208',\n",
              " '209',\n",
              " '210',\n",
              " '211',\n",
              " '212',\n",
              " '213',\n",
              " '214',\n",
              " '215',\n",
              " '216',\n",
              " '217',\n",
              " '218',\n",
              " '219',\n",
              " '220',\n",
              " '221',\n",
              " '222',\n",
              " '223',\n",
              " '224',\n",
              " '225']"
            ]
          },
          "metadata": {},
          "execution_count": 33
        }
      ]
    },
    {
      "cell_type": "code",
      "source": [
        "#Creating a dataframe to store the query vector and titles\n",
        "\n",
        "df = {'qid':all_nums, 'query': all_titles}\n",
        "quer_df = pd.DataFrame(df)"
      ],
      "metadata": {
        "id": "HO3A6mlXt_wf"
      },
      "execution_count": 34,
      "outputs": []
    },
    {
      "cell_type": "code",
      "source": [
        "for i in range(quer_df.shape[0]):\n",
        "    text = quer_df.loc[i, 'query']\n",
        "    normalized_text = normalizer.normalize(text)\n",
        "    tokenized_text = indic_tokenize.trivial_tokenize(normalized_text, lang=\"gu\")\n",
        "    processed_text = ' '.join([t for t in tokenized_text if t not in '''!()-[]{};:'\"\\,<>./?@#$%^&*_~'''])\n",
        "    quer_df.loc[i, 'query'] = processed_text"
      ],
      "metadata": {
        "id": "bkbjVTHPuFxr"
      },
      "execution_count": 35,
      "outputs": []
    },
    {
      "cell_type": "code",
      "source": [
        "quer_df.shape"
      ],
      "metadata": {
        "colab": {
          "base_uri": "https://localhost:8080/"
        },
        "id": "9XTwcmnSuVxj",
        "outputId": "85ea9a29-4bf5-4d6b-d05c-ee414e745b85"
      },
      "execution_count": 36,
      "outputs": [
        {
          "output_type": "execute_result",
          "data": {
            "text/plain": [
              "(50, 2)"
            ]
          },
          "metadata": {},
          "execution_count": 36
        }
      ]
    },
    {
      "cell_type": "code",
      "source": [
        "quer_df.head(10)"
      ],
      "metadata": {
        "colab": {
          "base_uri": "https://localhost:8080/",
          "height": 362
        },
        "id": "y-2pWmkiuZy8",
        "outputId": "90ab6b7f-7287-4dab-d1e9-ab7352fbb3eb"
      },
      "execution_count": 37,
      "outputs": [
        {
          "output_type": "execute_result",
          "data": {
            "text/plain": [
              "   qid                                      query\n",
              "0  176                    વાય એસ આર રેડ્ડી ની મૌત\n",
              "1  177                        સંગીતકારો ભારત રત્ન\n",
              "2  178                   એમ જી એન આર ઈ જી એ યોજના\n",
              "3  179      ઑસ્ટ્રેલિયન એલચી કચેરી સામે બોમ્બમારો\n",
              "4  180                         યુરો અપનાવાતા દેશો\n",
              "5  181   પ્રથમ ક્રિકેટર જેણે 700 ટેસ્ટ વિકેટ લીધી\n",
              "6  182                      સ્ટીવ ઇરવીન ની મૃત્યુ\n",
              "7  183          ગુવાહાટી 2008 બોમ્બમારામાં નુકસાન\n",
              "8  184                   ચામુંડા મંદિર માં નાસભાગ\n",
              "9  185  આદર્શ હાઉસિંગ સોસાયટી કૌભાંડમાં રાજીનામું"
            ],
            "text/html": [
              "\n",
              "  <div id=\"df-46e9ea72-0eb2-41e5-b486-ffc3956f92c6\" class=\"colab-df-container\">\n",
              "    <div>\n",
              "<style scoped>\n",
              "    .dataframe tbody tr th:only-of-type {\n",
              "        vertical-align: middle;\n",
              "    }\n",
              "\n",
              "    .dataframe tbody tr th {\n",
              "        vertical-align: top;\n",
              "    }\n",
              "\n",
              "    .dataframe thead th {\n",
              "        text-align: right;\n",
              "    }\n",
              "</style>\n",
              "<table border=\"1\" class=\"dataframe\">\n",
              "  <thead>\n",
              "    <tr style=\"text-align: right;\">\n",
              "      <th></th>\n",
              "      <th>qid</th>\n",
              "      <th>query</th>\n",
              "    </tr>\n",
              "  </thead>\n",
              "  <tbody>\n",
              "    <tr>\n",
              "      <th>0</th>\n",
              "      <td>176</td>\n",
              "      <td>વાય એસ આર રેડ્ડી ની મૌત</td>\n",
              "    </tr>\n",
              "    <tr>\n",
              "      <th>1</th>\n",
              "      <td>177</td>\n",
              "      <td>સંગીતકારો ભારત રત્ન</td>\n",
              "    </tr>\n",
              "    <tr>\n",
              "      <th>2</th>\n",
              "      <td>178</td>\n",
              "      <td>એમ જી એન આર ઈ જી એ યોજના</td>\n",
              "    </tr>\n",
              "    <tr>\n",
              "      <th>3</th>\n",
              "      <td>179</td>\n",
              "      <td>ઑસ્ટ્રેલિયન એલચી કચેરી સામે બોમ્બમારો</td>\n",
              "    </tr>\n",
              "    <tr>\n",
              "      <th>4</th>\n",
              "      <td>180</td>\n",
              "      <td>યુરો અપનાવાતા દેશો</td>\n",
              "    </tr>\n",
              "    <tr>\n",
              "      <th>5</th>\n",
              "      <td>181</td>\n",
              "      <td>પ્રથમ ક્રિકેટર જેણે 700 ટેસ્ટ વિકેટ લીધી</td>\n",
              "    </tr>\n",
              "    <tr>\n",
              "      <th>6</th>\n",
              "      <td>182</td>\n",
              "      <td>સ્ટીવ ઇરવીન ની મૃત્યુ</td>\n",
              "    </tr>\n",
              "    <tr>\n",
              "      <th>7</th>\n",
              "      <td>183</td>\n",
              "      <td>ગુવાહાટી 2008 બોમ્બમારામાં નુકસાન</td>\n",
              "    </tr>\n",
              "    <tr>\n",
              "      <th>8</th>\n",
              "      <td>184</td>\n",
              "      <td>ચામુંડા મંદિર માં નાસભાગ</td>\n",
              "    </tr>\n",
              "    <tr>\n",
              "      <th>9</th>\n",
              "      <td>185</td>\n",
              "      <td>આદર્શ હાઉસિંગ સોસાયટી કૌભાંડમાં રાજીનામું</td>\n",
              "    </tr>\n",
              "  </tbody>\n",
              "</table>\n",
              "</div>\n",
              "    <div class=\"colab-df-buttons\">\n",
              "\n",
              "  <div class=\"colab-df-container\">\n",
              "    <button class=\"colab-df-convert\" onclick=\"convertToInteractive('df-46e9ea72-0eb2-41e5-b486-ffc3956f92c6')\"\n",
              "            title=\"Convert this dataframe to an interactive table.\"\n",
              "            style=\"display:none;\">\n",
              "\n",
              "  <svg xmlns=\"http://www.w3.org/2000/svg\" height=\"24px\" viewBox=\"0 -960 960 960\">\n",
              "    <path d=\"M120-120v-720h720v720H120Zm60-500h600v-160H180v160Zm220 220h160v-160H400v160Zm0 220h160v-160H400v160ZM180-400h160v-160H180v160Zm440 0h160v-160H620v160ZM180-180h160v-160H180v160Zm440 0h160v-160H620v160Z\"/>\n",
              "  </svg>\n",
              "    </button>\n",
              "\n",
              "  <style>\n",
              "    .colab-df-container {\n",
              "      display:flex;\n",
              "      gap: 12px;\n",
              "    }\n",
              "\n",
              "    .colab-df-convert {\n",
              "      background-color: #E8F0FE;\n",
              "      border: none;\n",
              "      border-radius: 50%;\n",
              "      cursor: pointer;\n",
              "      display: none;\n",
              "      fill: #1967D2;\n",
              "      height: 32px;\n",
              "      padding: 0 0 0 0;\n",
              "      width: 32px;\n",
              "    }\n",
              "\n",
              "    .colab-df-convert:hover {\n",
              "      background-color: #E2EBFA;\n",
              "      box-shadow: 0px 1px 2px rgba(60, 64, 67, 0.3), 0px 1px 3px 1px rgba(60, 64, 67, 0.15);\n",
              "      fill: #174EA6;\n",
              "    }\n",
              "\n",
              "    .colab-df-buttons div {\n",
              "      margin-bottom: 4px;\n",
              "    }\n",
              "\n",
              "    [theme=dark] .colab-df-convert {\n",
              "      background-color: #3B4455;\n",
              "      fill: #D2E3FC;\n",
              "    }\n",
              "\n",
              "    [theme=dark] .colab-df-convert:hover {\n",
              "      background-color: #434B5C;\n",
              "      box-shadow: 0px 1px 3px 1px rgba(0, 0, 0, 0.15);\n",
              "      filter: drop-shadow(0px 1px 2px rgba(0, 0, 0, 0.3));\n",
              "      fill: #FFFFFF;\n",
              "    }\n",
              "  </style>\n",
              "\n",
              "    <script>\n",
              "      const buttonEl =\n",
              "        document.querySelector('#df-46e9ea72-0eb2-41e5-b486-ffc3956f92c6 button.colab-df-convert');\n",
              "      buttonEl.style.display =\n",
              "        google.colab.kernel.accessAllowed ? 'block' : 'none';\n",
              "\n",
              "      async function convertToInteractive(key) {\n",
              "        const element = document.querySelector('#df-46e9ea72-0eb2-41e5-b486-ffc3956f92c6');\n",
              "        const dataTable =\n",
              "          await google.colab.kernel.invokeFunction('convertToInteractive',\n",
              "                                                    [key], {});\n",
              "        if (!dataTable) return;\n",
              "\n",
              "        const docLinkHtml = 'Like what you see? Visit the ' +\n",
              "          '<a target=\"_blank\" href=https://colab.research.google.com/notebooks/data_table.ipynb>data table notebook</a>'\n",
              "          + ' to learn more about interactive tables.';\n",
              "        element.innerHTML = '';\n",
              "        dataTable['output_type'] = 'display_data';\n",
              "        await google.colab.output.renderOutput(dataTable, element);\n",
              "        const docLink = document.createElement('div');\n",
              "        docLink.innerHTML = docLinkHtml;\n",
              "        element.appendChild(docLink);\n",
              "      }\n",
              "    </script>\n",
              "  </div>\n",
              "\n",
              "\n",
              "<div id=\"df-30df335c-5a01-491c-a3f4-c07707ead55b\">\n",
              "  <button class=\"colab-df-quickchart\" onclick=\"quickchart('df-30df335c-5a01-491c-a3f4-c07707ead55b')\"\n",
              "            title=\"Suggest charts.\"\n",
              "            style=\"display:none;\">\n",
              "\n",
              "<svg xmlns=\"http://www.w3.org/2000/svg\" height=\"24px\"viewBox=\"0 0 24 24\"\n",
              "     width=\"24px\">\n",
              "    <g>\n",
              "        <path d=\"M19 3H5c-1.1 0-2 .9-2 2v14c0 1.1.9 2 2 2h14c1.1 0 2-.9 2-2V5c0-1.1-.9-2-2-2zM9 17H7v-7h2v7zm4 0h-2V7h2v10zm4 0h-2v-4h2v4z\"/>\n",
              "    </g>\n",
              "</svg>\n",
              "  </button>\n",
              "\n",
              "<style>\n",
              "  .colab-df-quickchart {\n",
              "      --bg-color: #E8F0FE;\n",
              "      --fill-color: #1967D2;\n",
              "      --hover-bg-color: #E2EBFA;\n",
              "      --hover-fill-color: #174EA6;\n",
              "      --disabled-fill-color: #AAA;\n",
              "      --disabled-bg-color: #DDD;\n",
              "  }\n",
              "\n",
              "  [theme=dark] .colab-df-quickchart {\n",
              "      --bg-color: #3B4455;\n",
              "      --fill-color: #D2E3FC;\n",
              "      --hover-bg-color: #434B5C;\n",
              "      --hover-fill-color: #FFFFFF;\n",
              "      --disabled-bg-color: #3B4455;\n",
              "      --disabled-fill-color: #666;\n",
              "  }\n",
              "\n",
              "  .colab-df-quickchart {\n",
              "    background-color: var(--bg-color);\n",
              "    border: none;\n",
              "    border-radius: 50%;\n",
              "    cursor: pointer;\n",
              "    display: none;\n",
              "    fill: var(--fill-color);\n",
              "    height: 32px;\n",
              "    padding: 0;\n",
              "    width: 32px;\n",
              "  }\n",
              "\n",
              "  .colab-df-quickchart:hover {\n",
              "    background-color: var(--hover-bg-color);\n",
              "    box-shadow: 0 1px 2px rgba(60, 64, 67, 0.3), 0 1px 3px 1px rgba(60, 64, 67, 0.15);\n",
              "    fill: var(--button-hover-fill-color);\n",
              "  }\n",
              "\n",
              "  .colab-df-quickchart-complete:disabled,\n",
              "  .colab-df-quickchart-complete:disabled:hover {\n",
              "    background-color: var(--disabled-bg-color);\n",
              "    fill: var(--disabled-fill-color);\n",
              "    box-shadow: none;\n",
              "  }\n",
              "\n",
              "  .colab-df-spinner {\n",
              "    border: 2px solid var(--fill-color);\n",
              "    border-color: transparent;\n",
              "    border-bottom-color: var(--fill-color);\n",
              "    animation:\n",
              "      spin 1s steps(1) infinite;\n",
              "  }\n",
              "\n",
              "  @keyframes spin {\n",
              "    0% {\n",
              "      border-color: transparent;\n",
              "      border-bottom-color: var(--fill-color);\n",
              "      border-left-color: var(--fill-color);\n",
              "    }\n",
              "    20% {\n",
              "      border-color: transparent;\n",
              "      border-left-color: var(--fill-color);\n",
              "      border-top-color: var(--fill-color);\n",
              "    }\n",
              "    30% {\n",
              "      border-color: transparent;\n",
              "      border-left-color: var(--fill-color);\n",
              "      border-top-color: var(--fill-color);\n",
              "      border-right-color: var(--fill-color);\n",
              "    }\n",
              "    40% {\n",
              "      border-color: transparent;\n",
              "      border-right-color: var(--fill-color);\n",
              "      border-top-color: var(--fill-color);\n",
              "    }\n",
              "    60% {\n",
              "      border-color: transparent;\n",
              "      border-right-color: var(--fill-color);\n",
              "    }\n",
              "    80% {\n",
              "      border-color: transparent;\n",
              "      border-right-color: var(--fill-color);\n",
              "      border-bottom-color: var(--fill-color);\n",
              "    }\n",
              "    90% {\n",
              "      border-color: transparent;\n",
              "      border-bottom-color: var(--fill-color);\n",
              "    }\n",
              "  }\n",
              "</style>\n",
              "\n",
              "  <script>\n",
              "    async function quickchart(key) {\n",
              "      const quickchartButtonEl =\n",
              "        document.querySelector('#' + key + ' button');\n",
              "      quickchartButtonEl.disabled = true;  // To prevent multiple clicks.\n",
              "      quickchartButtonEl.classList.add('colab-df-spinner');\n",
              "      try {\n",
              "        const charts = await google.colab.kernel.invokeFunction(\n",
              "            'suggestCharts', [key], {});\n",
              "      } catch (error) {\n",
              "        console.error('Error during call to suggestCharts:', error);\n",
              "      }\n",
              "      quickchartButtonEl.classList.remove('colab-df-spinner');\n",
              "      quickchartButtonEl.classList.add('colab-df-quickchart-complete');\n",
              "    }\n",
              "    (() => {\n",
              "      let quickchartButtonEl =\n",
              "        document.querySelector('#df-30df335c-5a01-491c-a3f4-c07707ead55b button');\n",
              "      quickchartButtonEl.style.display =\n",
              "        google.colab.kernel.accessAllowed ? 'block' : 'none';\n",
              "    })();\n",
              "  </script>\n",
              "</div>\n",
              "    </div>\n",
              "  </div>\n"
            ]
          },
          "metadata": {},
          "execution_count": 37
        }
      ]
    },
    {
      "cell_type": "code",
      "source": [
        "# List the files and directories in the 'pd_index/' directory\n",
        "!ls -lh pd_index/"
      ],
      "metadata": {
        "colab": {
          "base_uri": "https://localhost:8080/"
        },
        "id": "L9jYpxL_udul",
        "outputId": "765f493a-e66f-4b5f-de21-e1583d502226"
      },
      "execution_count": 38,
      "outputs": [
        {
          "output_type": "stream",
          "name": "stdout",
          "text": [
            "total 536M\n",
            "-rw-r--r-- 1 root root 142M Aug 31 18:51 data.direct.bf\n",
            "-rw-r--r-- 1 root root 5.1M Aug 31 18:51 data.document.fsarrayfile\n",
            "-rw-r--r-- 1 root root 130M Aug 31 18:53 data.inverted.bf\n",
            "-rw-r--r-- 1 root root 170M Aug 31 18:53 data.lexicon.fsomapfile\n",
            "-rw-r--r-- 1 root root 3.4K Aug 31 18:53 data.lexicon.fsomaphash\n",
            "-rw-r--r-- 1 root root 7.9M Aug 31 18:53 data.lexicon.fsomapid\n",
            "-rw-r--r-- 1 root root  60M Aug 31 18:51 data.meta-0.fsomapfile\n",
            "-rw-r--r-- 1 root root 2.4M Aug 31 18:51 data.meta.idx\n",
            "-rw-r--r-- 1 root root  21M Aug 31 18:51 data.meta.zdata\n",
            "-rw-r--r-- 1 root root 4.1K Aug 31 18:53 data.properties\n"
          ]
        }
      ]
    },
    {
      "cell_type": "code",
      "source": [
        "tfidf = pt.BatchRetrieve(index, controls={\"wmodel\": \"TF_IDF\"})\n",
        "# Use the processed queries to retrieve documents\n",
        "final = tfidf.transform(quer_df)"
      ],
      "metadata": {
        "id": "RWWCaZ_buhoT"
      },
      "execution_count": 39,
      "outputs": []
    },
    {
      "cell_type": "code",
      "source": [
        "final.shape"
      ],
      "metadata": {
        "colab": {
          "base_uri": "https://localhost:8080/"
        },
        "id": "3mDivl_eurt1",
        "outputId": "74162491-9e4f-4cad-dd9f-408f53339c92"
      },
      "execution_count": 40,
      "outputs": [
        {
          "output_type": "execute_result",
          "data": {
            "text/plain": [
              "(50000, 6)"
            ]
          },
          "metadata": {},
          "execution_count": 40
        }
      ]
    },
    {
      "cell_type": "code",
      "source": [
        "final.head(10)"
      ],
      "metadata": {
        "colab": {
          "base_uri": "https://localhost:8080/",
          "height": 362
        },
        "id": "OBvS5SmZuorB",
        "outputId": "1cee1875-76f9-4751-a28d-ab400d7dce05"
      },
      "execution_count": 41,
      "outputs": [
        {
          "output_type": "execute_result",
          "data": {
            "text/plain": [
              "   qid   docid                                              docno  rank  \\\n",
              "0  176  291324  gujarat_samachar_date_20090904_guj_national_16...     0   \n",
              "1  176  293551  gujarat_samachar_date_20090927_guj_national_1_...     1   \n",
              "2  176  179817  gujarat_samachar_date_20060922_guj_gujarat_36_...     2   \n",
              "3  176  296865  gujarat_samachar_date_20091030_guj_national_16...     3   \n",
              "4  176  173496  gujarat_samachar_date_20060726_guj_gujarat_40_...     4   \n",
              "5  176  235750  gujarat_samachar_date_20080312_guj_gujarat_35_...     5   \n",
              "6  176  298842  gujarat_samachar_date_20091128_guj_national_1_...     6   \n",
              "7  176  291323  gujarat_samachar_date_20090904_guj_national_15...     7   \n",
              "8  176  310277  gujarat_samachar_date_20101130_vishesh_2_delhi...     8   \n",
              "9  176  292783  gujarat_samachar_date_20090920_guj_gujarat_30_...     9   \n",
              "\n",
              "       score                    query  \n",
              "0  20.307969  વાય એસ આર રેડ્ડી ની મૌત  \n",
              "1  16.818473  વાય એસ આર રેડ્ડી ની મૌત  \n",
              "2  15.739286  વાય એસ આર રેડ્ડી ની મૌત  \n",
              "3  15.689421  વાય એસ આર રેડ્ડી ની મૌત  \n",
              "4  15.622003  વાય એસ આર રેડ્ડી ની મૌત  \n",
              "5  15.394620  વાય એસ આર રેડ્ડી ની મૌત  \n",
              "6  15.325311  વાય એસ આર રેડ્ડી ની મૌત  \n",
              "7  15.283701  વાય એસ આર રેડ્ડી ની મૌત  \n",
              "8  14.966580  વાય એસ આર રેડ્ડી ની મૌત  \n",
              "9  14.869203  વાય એસ આર રેડ્ડી ની મૌત  "
            ],
            "text/html": [
              "\n",
              "  <div id=\"df-3b2148cb-e0ea-475f-b481-6df9764a7757\" class=\"colab-df-container\">\n",
              "    <div>\n",
              "<style scoped>\n",
              "    .dataframe tbody tr th:only-of-type {\n",
              "        vertical-align: middle;\n",
              "    }\n",
              "\n",
              "    .dataframe tbody tr th {\n",
              "        vertical-align: top;\n",
              "    }\n",
              "\n",
              "    .dataframe thead th {\n",
              "        text-align: right;\n",
              "    }\n",
              "</style>\n",
              "<table border=\"1\" class=\"dataframe\">\n",
              "  <thead>\n",
              "    <tr style=\"text-align: right;\">\n",
              "      <th></th>\n",
              "      <th>qid</th>\n",
              "      <th>docid</th>\n",
              "      <th>docno</th>\n",
              "      <th>rank</th>\n",
              "      <th>score</th>\n",
              "      <th>query</th>\n",
              "    </tr>\n",
              "  </thead>\n",
              "  <tbody>\n",
              "    <tr>\n",
              "      <th>0</th>\n",
              "      <td>176</td>\n",
              "      <td>291324</td>\n",
              "      <td>gujarat_samachar_date_20090904_guj_national_16...</td>\n",
              "      <td>0</td>\n",
              "      <td>20.307969</td>\n",
              "      <td>વાય એસ આર રેડ્ડી ની મૌત</td>\n",
              "    </tr>\n",
              "    <tr>\n",
              "      <th>1</th>\n",
              "      <td>176</td>\n",
              "      <td>293551</td>\n",
              "      <td>gujarat_samachar_date_20090927_guj_national_1_...</td>\n",
              "      <td>1</td>\n",
              "      <td>16.818473</td>\n",
              "      <td>વાય એસ આર રેડ્ડી ની મૌત</td>\n",
              "    </tr>\n",
              "    <tr>\n",
              "      <th>2</th>\n",
              "      <td>176</td>\n",
              "      <td>179817</td>\n",
              "      <td>gujarat_samachar_date_20060922_guj_gujarat_36_...</td>\n",
              "      <td>2</td>\n",
              "      <td>15.739286</td>\n",
              "      <td>વાય એસ આર રેડ્ડી ની મૌત</td>\n",
              "    </tr>\n",
              "    <tr>\n",
              "      <th>3</th>\n",
              "      <td>176</td>\n",
              "      <td>296865</td>\n",
              "      <td>gujarat_samachar_date_20091030_guj_national_16...</td>\n",
              "      <td>3</td>\n",
              "      <td>15.689421</td>\n",
              "      <td>વાય એસ આર રેડ્ડી ની મૌત</td>\n",
              "    </tr>\n",
              "    <tr>\n",
              "      <th>4</th>\n",
              "      <td>176</td>\n",
              "      <td>173496</td>\n",
              "      <td>gujarat_samachar_date_20060726_guj_gujarat_40_...</td>\n",
              "      <td>4</td>\n",
              "      <td>15.622003</td>\n",
              "      <td>વાય એસ આર રેડ્ડી ની મૌત</td>\n",
              "    </tr>\n",
              "    <tr>\n",
              "      <th>5</th>\n",
              "      <td>176</td>\n",
              "      <td>235750</td>\n",
              "      <td>gujarat_samachar_date_20080312_guj_gujarat_35_...</td>\n",
              "      <td>5</td>\n",
              "      <td>15.394620</td>\n",
              "      <td>વાય એસ આર રેડ્ડી ની મૌત</td>\n",
              "    </tr>\n",
              "    <tr>\n",
              "      <th>6</th>\n",
              "      <td>176</td>\n",
              "      <td>298842</td>\n",
              "      <td>gujarat_samachar_date_20091128_guj_national_1_...</td>\n",
              "      <td>6</td>\n",
              "      <td>15.325311</td>\n",
              "      <td>વાય એસ આર રેડ્ડી ની મૌત</td>\n",
              "    </tr>\n",
              "    <tr>\n",
              "      <th>7</th>\n",
              "      <td>176</td>\n",
              "      <td>291323</td>\n",
              "      <td>gujarat_samachar_date_20090904_guj_national_15...</td>\n",
              "      <td>7</td>\n",
              "      <td>15.283701</td>\n",
              "      <td>વાય એસ આર રેડ્ડી ની મૌત</td>\n",
              "    </tr>\n",
              "    <tr>\n",
              "      <th>8</th>\n",
              "      <td>176</td>\n",
              "      <td>310277</td>\n",
              "      <td>gujarat_samachar_date_20101130_vishesh_2_delhi...</td>\n",
              "      <td>8</td>\n",
              "      <td>14.966580</td>\n",
              "      <td>વાય એસ આર રેડ્ડી ની મૌત</td>\n",
              "    </tr>\n",
              "    <tr>\n",
              "      <th>9</th>\n",
              "      <td>176</td>\n",
              "      <td>292783</td>\n",
              "      <td>gujarat_samachar_date_20090920_guj_gujarat_30_...</td>\n",
              "      <td>9</td>\n",
              "      <td>14.869203</td>\n",
              "      <td>વાય એસ આર રેડ્ડી ની મૌત</td>\n",
              "    </tr>\n",
              "  </tbody>\n",
              "</table>\n",
              "</div>\n",
              "    <div class=\"colab-df-buttons\">\n",
              "\n",
              "  <div class=\"colab-df-container\">\n",
              "    <button class=\"colab-df-convert\" onclick=\"convertToInteractive('df-3b2148cb-e0ea-475f-b481-6df9764a7757')\"\n",
              "            title=\"Convert this dataframe to an interactive table.\"\n",
              "            style=\"display:none;\">\n",
              "\n",
              "  <svg xmlns=\"http://www.w3.org/2000/svg\" height=\"24px\" viewBox=\"0 -960 960 960\">\n",
              "    <path d=\"M120-120v-720h720v720H120Zm60-500h600v-160H180v160Zm220 220h160v-160H400v160Zm0 220h160v-160H400v160ZM180-400h160v-160H180v160Zm440 0h160v-160H620v160ZM180-180h160v-160H180v160Zm440 0h160v-160H620v160Z\"/>\n",
              "  </svg>\n",
              "    </button>\n",
              "\n",
              "  <style>\n",
              "    .colab-df-container {\n",
              "      display:flex;\n",
              "      gap: 12px;\n",
              "    }\n",
              "\n",
              "    .colab-df-convert {\n",
              "      background-color: #E8F0FE;\n",
              "      border: none;\n",
              "      border-radius: 50%;\n",
              "      cursor: pointer;\n",
              "      display: none;\n",
              "      fill: #1967D2;\n",
              "      height: 32px;\n",
              "      padding: 0 0 0 0;\n",
              "      width: 32px;\n",
              "    }\n",
              "\n",
              "    .colab-df-convert:hover {\n",
              "      background-color: #E2EBFA;\n",
              "      box-shadow: 0px 1px 2px rgba(60, 64, 67, 0.3), 0px 1px 3px 1px rgba(60, 64, 67, 0.15);\n",
              "      fill: #174EA6;\n",
              "    }\n",
              "\n",
              "    .colab-df-buttons div {\n",
              "      margin-bottom: 4px;\n",
              "    }\n",
              "\n",
              "    [theme=dark] .colab-df-convert {\n",
              "      background-color: #3B4455;\n",
              "      fill: #D2E3FC;\n",
              "    }\n",
              "\n",
              "    [theme=dark] .colab-df-convert:hover {\n",
              "      background-color: #434B5C;\n",
              "      box-shadow: 0px 1px 3px 1px rgba(0, 0, 0, 0.15);\n",
              "      filter: drop-shadow(0px 1px 2px rgba(0, 0, 0, 0.3));\n",
              "      fill: #FFFFFF;\n",
              "    }\n",
              "  </style>\n",
              "\n",
              "    <script>\n",
              "      const buttonEl =\n",
              "        document.querySelector('#df-3b2148cb-e0ea-475f-b481-6df9764a7757 button.colab-df-convert');\n",
              "      buttonEl.style.display =\n",
              "        google.colab.kernel.accessAllowed ? 'block' : 'none';\n",
              "\n",
              "      async function convertToInteractive(key) {\n",
              "        const element = document.querySelector('#df-3b2148cb-e0ea-475f-b481-6df9764a7757');\n",
              "        const dataTable =\n",
              "          await google.colab.kernel.invokeFunction('convertToInteractive',\n",
              "                                                    [key], {});\n",
              "        if (!dataTable) return;\n",
              "\n",
              "        const docLinkHtml = 'Like what you see? Visit the ' +\n",
              "          '<a target=\"_blank\" href=https://colab.research.google.com/notebooks/data_table.ipynb>data table notebook</a>'\n",
              "          + ' to learn more about interactive tables.';\n",
              "        element.innerHTML = '';\n",
              "        dataTable['output_type'] = 'display_data';\n",
              "        await google.colab.output.renderOutput(dataTable, element);\n",
              "        const docLink = document.createElement('div');\n",
              "        docLink.innerHTML = docLinkHtml;\n",
              "        element.appendChild(docLink);\n",
              "      }\n",
              "    </script>\n",
              "  </div>\n",
              "\n",
              "\n",
              "<div id=\"df-9a968530-faa2-410d-aea5-64221ca312b2\">\n",
              "  <button class=\"colab-df-quickchart\" onclick=\"quickchart('df-9a968530-faa2-410d-aea5-64221ca312b2')\"\n",
              "            title=\"Suggest charts.\"\n",
              "            style=\"display:none;\">\n",
              "\n",
              "<svg xmlns=\"http://www.w3.org/2000/svg\" height=\"24px\"viewBox=\"0 0 24 24\"\n",
              "     width=\"24px\">\n",
              "    <g>\n",
              "        <path d=\"M19 3H5c-1.1 0-2 .9-2 2v14c0 1.1.9 2 2 2h14c1.1 0 2-.9 2-2V5c0-1.1-.9-2-2-2zM9 17H7v-7h2v7zm4 0h-2V7h2v10zm4 0h-2v-4h2v4z\"/>\n",
              "    </g>\n",
              "</svg>\n",
              "  </button>\n",
              "\n",
              "<style>\n",
              "  .colab-df-quickchart {\n",
              "      --bg-color: #E8F0FE;\n",
              "      --fill-color: #1967D2;\n",
              "      --hover-bg-color: #E2EBFA;\n",
              "      --hover-fill-color: #174EA6;\n",
              "      --disabled-fill-color: #AAA;\n",
              "      --disabled-bg-color: #DDD;\n",
              "  }\n",
              "\n",
              "  [theme=dark] .colab-df-quickchart {\n",
              "      --bg-color: #3B4455;\n",
              "      --fill-color: #D2E3FC;\n",
              "      --hover-bg-color: #434B5C;\n",
              "      --hover-fill-color: #FFFFFF;\n",
              "      --disabled-bg-color: #3B4455;\n",
              "      --disabled-fill-color: #666;\n",
              "  }\n",
              "\n",
              "  .colab-df-quickchart {\n",
              "    background-color: var(--bg-color);\n",
              "    border: none;\n",
              "    border-radius: 50%;\n",
              "    cursor: pointer;\n",
              "    display: none;\n",
              "    fill: var(--fill-color);\n",
              "    height: 32px;\n",
              "    padding: 0;\n",
              "    width: 32px;\n",
              "  }\n",
              "\n",
              "  .colab-df-quickchart:hover {\n",
              "    background-color: var(--hover-bg-color);\n",
              "    box-shadow: 0 1px 2px rgba(60, 64, 67, 0.3), 0 1px 3px 1px rgba(60, 64, 67, 0.15);\n",
              "    fill: var(--button-hover-fill-color);\n",
              "  }\n",
              "\n",
              "  .colab-df-quickchart-complete:disabled,\n",
              "  .colab-df-quickchart-complete:disabled:hover {\n",
              "    background-color: var(--disabled-bg-color);\n",
              "    fill: var(--disabled-fill-color);\n",
              "    box-shadow: none;\n",
              "  }\n",
              "\n",
              "  .colab-df-spinner {\n",
              "    border: 2px solid var(--fill-color);\n",
              "    border-color: transparent;\n",
              "    border-bottom-color: var(--fill-color);\n",
              "    animation:\n",
              "      spin 1s steps(1) infinite;\n",
              "  }\n",
              "\n",
              "  @keyframes spin {\n",
              "    0% {\n",
              "      border-color: transparent;\n",
              "      border-bottom-color: var(--fill-color);\n",
              "      border-left-color: var(--fill-color);\n",
              "    }\n",
              "    20% {\n",
              "      border-color: transparent;\n",
              "      border-left-color: var(--fill-color);\n",
              "      border-top-color: var(--fill-color);\n",
              "    }\n",
              "    30% {\n",
              "      border-color: transparent;\n",
              "      border-left-color: var(--fill-color);\n",
              "      border-top-color: var(--fill-color);\n",
              "      border-right-color: var(--fill-color);\n",
              "    }\n",
              "    40% {\n",
              "      border-color: transparent;\n",
              "      border-right-color: var(--fill-color);\n",
              "      border-top-color: var(--fill-color);\n",
              "    }\n",
              "    60% {\n",
              "      border-color: transparent;\n",
              "      border-right-color: var(--fill-color);\n",
              "    }\n",
              "    80% {\n",
              "      border-color: transparent;\n",
              "      border-right-color: var(--fill-color);\n",
              "      border-bottom-color: var(--fill-color);\n",
              "    }\n",
              "    90% {\n",
              "      border-color: transparent;\n",
              "      border-bottom-color: var(--fill-color);\n",
              "    }\n",
              "  }\n",
              "</style>\n",
              "\n",
              "  <script>\n",
              "    async function quickchart(key) {\n",
              "      const quickchartButtonEl =\n",
              "        document.querySelector('#' + key + ' button');\n",
              "      quickchartButtonEl.disabled = true;  // To prevent multiple clicks.\n",
              "      quickchartButtonEl.classList.add('colab-df-spinner');\n",
              "      try {\n",
              "        const charts = await google.colab.kernel.invokeFunction(\n",
              "            'suggestCharts', [key], {});\n",
              "      } catch (error) {\n",
              "        console.error('Error during call to suggestCharts:', error);\n",
              "      }\n",
              "      quickchartButtonEl.classList.remove('colab-df-spinner');\n",
              "      quickchartButtonEl.classList.add('colab-df-quickchart-complete');\n",
              "    }\n",
              "    (() => {\n",
              "      let quickchartButtonEl =\n",
              "        document.querySelector('#df-9a968530-faa2-410d-aea5-64221ca312b2 button');\n",
              "      quickchartButtonEl.style.display =\n",
              "        google.colab.kernel.accessAllowed ? 'block' : 'none';\n",
              "    })();\n",
              "  </script>\n",
              "</div>\n",
              "    </div>\n",
              "  </div>\n"
            ]
          },
          "metadata": {},
          "execution_count": 41
        }
      ]
    },
    {
      "cell_type": "code",
      "source": [
        "# Read the qrels file and create a DataFrame 'qrels_df'\n",
        "path_to_qrels = \"/content/drive/MyDrive/Classroom/gu.qrels.176-225.2012-v1.txt\"\n",
        "qrels_df = pt.io.read_qrels(path_to_qrels)"
      ],
      "metadata": {
        "id": "CALX94Pauq1w"
      },
      "execution_count": 42,
      "outputs": []
    },
    {
      "cell_type": "code",
      "source": [
        "# Evaluate using precision at 10 documents and map documents and bref documents\n",
        "eval_metrics = pt.Experiment(\n",
        "    [tfidf],\n",
        "    final,\n",
        "    qrels_df,\n",
        "    eval_metrics=[\"map\", \"P_10\",\"bpref\"])"
      ],
      "metadata": {
        "id": "yGG5sLv8u2xj"
      },
      "execution_count": 43,
      "outputs": []
    },
    {
      "cell_type": "code",
      "source": [
        "eval_metrics"
      ],
      "metadata": {
        "colab": {
          "base_uri": "https://localhost:8080/",
          "height": 80
        },
        "id": "U5nMDSe4u9fQ",
        "outputId": "b4d802b7-64e6-4a8a-d6be-2a6eae72e338"
      },
      "execution_count": 44,
      "outputs": [
        {
          "output_type": "execute_result",
          "data": {
            "text/plain": [
              "         name       map   P_10    bpref\n",
              "0  BR(TF_IDF)  0.249672  0.246  0.25246"
            ],
            "text/html": [
              "\n",
              "  <div id=\"df-a9da93a7-2eb5-4460-98c0-a8c0de796343\" class=\"colab-df-container\">\n",
              "    <div>\n",
              "<style scoped>\n",
              "    .dataframe tbody tr th:only-of-type {\n",
              "        vertical-align: middle;\n",
              "    }\n",
              "\n",
              "    .dataframe tbody tr th {\n",
              "        vertical-align: top;\n",
              "    }\n",
              "\n",
              "    .dataframe thead th {\n",
              "        text-align: right;\n",
              "    }\n",
              "</style>\n",
              "<table border=\"1\" class=\"dataframe\">\n",
              "  <thead>\n",
              "    <tr style=\"text-align: right;\">\n",
              "      <th></th>\n",
              "      <th>name</th>\n",
              "      <th>map</th>\n",
              "      <th>P_10</th>\n",
              "      <th>bpref</th>\n",
              "    </tr>\n",
              "  </thead>\n",
              "  <tbody>\n",
              "    <tr>\n",
              "      <th>0</th>\n",
              "      <td>BR(TF_IDF)</td>\n",
              "      <td>0.249672</td>\n",
              "      <td>0.246</td>\n",
              "      <td>0.25246</td>\n",
              "    </tr>\n",
              "  </tbody>\n",
              "</table>\n",
              "</div>\n",
              "    <div class=\"colab-df-buttons\">\n",
              "\n",
              "  <div class=\"colab-df-container\">\n",
              "    <button class=\"colab-df-convert\" onclick=\"convertToInteractive('df-a9da93a7-2eb5-4460-98c0-a8c0de796343')\"\n",
              "            title=\"Convert this dataframe to an interactive table.\"\n",
              "            style=\"display:none;\">\n",
              "\n",
              "  <svg xmlns=\"http://www.w3.org/2000/svg\" height=\"24px\" viewBox=\"0 -960 960 960\">\n",
              "    <path d=\"M120-120v-720h720v720H120Zm60-500h600v-160H180v160Zm220 220h160v-160H400v160Zm0 220h160v-160H400v160ZM180-400h160v-160H180v160Zm440 0h160v-160H620v160ZM180-180h160v-160H180v160Zm440 0h160v-160H620v160Z\"/>\n",
              "  </svg>\n",
              "    </button>\n",
              "\n",
              "  <style>\n",
              "    .colab-df-container {\n",
              "      display:flex;\n",
              "      gap: 12px;\n",
              "    }\n",
              "\n",
              "    .colab-df-convert {\n",
              "      background-color: #E8F0FE;\n",
              "      border: none;\n",
              "      border-radius: 50%;\n",
              "      cursor: pointer;\n",
              "      display: none;\n",
              "      fill: #1967D2;\n",
              "      height: 32px;\n",
              "      padding: 0 0 0 0;\n",
              "      width: 32px;\n",
              "    }\n",
              "\n",
              "    .colab-df-convert:hover {\n",
              "      background-color: #E2EBFA;\n",
              "      box-shadow: 0px 1px 2px rgba(60, 64, 67, 0.3), 0px 1px 3px 1px rgba(60, 64, 67, 0.15);\n",
              "      fill: #174EA6;\n",
              "    }\n",
              "\n",
              "    .colab-df-buttons div {\n",
              "      margin-bottom: 4px;\n",
              "    }\n",
              "\n",
              "    [theme=dark] .colab-df-convert {\n",
              "      background-color: #3B4455;\n",
              "      fill: #D2E3FC;\n",
              "    }\n",
              "\n",
              "    [theme=dark] .colab-df-convert:hover {\n",
              "      background-color: #434B5C;\n",
              "      box-shadow: 0px 1px 3px 1px rgba(0, 0, 0, 0.15);\n",
              "      filter: drop-shadow(0px 1px 2px rgba(0, 0, 0, 0.3));\n",
              "      fill: #FFFFFF;\n",
              "    }\n",
              "  </style>\n",
              "\n",
              "    <script>\n",
              "      const buttonEl =\n",
              "        document.querySelector('#df-a9da93a7-2eb5-4460-98c0-a8c0de796343 button.colab-df-convert');\n",
              "      buttonEl.style.display =\n",
              "        google.colab.kernel.accessAllowed ? 'block' : 'none';\n",
              "\n",
              "      async function convertToInteractive(key) {\n",
              "        const element = document.querySelector('#df-a9da93a7-2eb5-4460-98c0-a8c0de796343');\n",
              "        const dataTable =\n",
              "          await google.colab.kernel.invokeFunction('convertToInteractive',\n",
              "                                                    [key], {});\n",
              "        if (!dataTable) return;\n",
              "\n",
              "        const docLinkHtml = 'Like what you see? Visit the ' +\n",
              "          '<a target=\"_blank\" href=https://colab.research.google.com/notebooks/data_table.ipynb>data table notebook</a>'\n",
              "          + ' to learn more about interactive tables.';\n",
              "        element.innerHTML = '';\n",
              "        dataTable['output_type'] = 'display_data';\n",
              "        await google.colab.output.renderOutput(dataTable, element);\n",
              "        const docLink = document.createElement('div');\n",
              "        docLink.innerHTML = docLinkHtml;\n",
              "        element.appendChild(docLink);\n",
              "      }\n",
              "    </script>\n",
              "  </div>\n",
              "\n",
              "    </div>\n",
              "  </div>\n"
            ]
          },
          "metadata": {},
          "execution_count": 44
        }
      ]
    }
  ]
}